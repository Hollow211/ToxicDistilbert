{
 "cells": [
  {
   "cell_type": "markdown",
   "metadata": {
    "id": "Zwyjbjbmg6OU"
   },
   "source": [
    "# ***Save/Load Model***"
   ]
  },
  {
   "cell_type": "markdown",
   "metadata": {
    "id": "kGIdSx17g_SR"
   },
   "source": [
    "## Save"
   ]
  },
  {
   "cell_type": "code",
   "execution_count": null,
   "metadata": {
    "colab": {
     "base_uri": "https://localhost:8080/"
    },
    "id": "DNPkz91-R7vn",
    "outputId": "73bb3c97-7ef5-417f-af83-4a0903987b9c"
   },
   "outputs": [
    {
     "name": "stdout",
     "output_type": "stream",
     "text": [
      "Saved\n"
     ]
    }
   ],
   "source": [
    "# Saving the files for inference\n",
    "\n",
    "output_model_file = '/content/drive/MyDrive/Colab Notebooks/toxicbert_FULLTRAIN.bin'\n",
    "output_vocab_file = '/content/drive/MyDrive/Colab Notebooks/toxicbertvocab_FULLTRAIN.bin'\n",
    "\n",
    "torch.save(model, output_model_file)\n",
    "tokenizer.save_vocabulary(output_vocab_file)\n",
    "\n",
    "print('Saved')"
   ]
  },
  {
   "cell_type": "markdown",
   "metadata": {
    "id": "PACAh1ZKhA2S"
   },
   "source": [
    "## Load"
   ]
  },
  {
   "cell_type": "code",
   "execution_count": null,
   "metadata": {
    "colab": {
     "base_uri": "https://localhost:8080/"
    },
    "id": "a8svy5OVdKea",
    "outputId": "e45bfcd5-b976-487e-84f2-88567960d9ee"
   },
   "outputs": [
    {
     "data": {
      "text/plain": [
       "DistilBERTClass(\n",
       "  (l1): DistilBertModel(\n",
       "    (embeddings): Embeddings(\n",
       "      (word_embeddings): Embedding(30522, 768, padding_idx=0)\n",
       "      (position_embeddings): Embedding(512, 768)\n",
       "      (LayerNorm): LayerNorm((768,), eps=1e-12, elementwise_affine=True)\n",
       "      (dropout): Dropout(p=0.1, inplace=False)\n",
       "    )\n",
       "    (transformer): Transformer(\n",
       "      (layer): ModuleList(\n",
       "        (0): TransformerBlock(\n",
       "          (attention): MultiHeadSelfAttention(\n",
       "            (dropout): Dropout(p=0.1, inplace=False)\n",
       "            (q_lin): Linear(in_features=768, out_features=768, bias=True)\n",
       "            (k_lin): Linear(in_features=768, out_features=768, bias=True)\n",
       "            (v_lin): Linear(in_features=768, out_features=768, bias=True)\n",
       "            (out_lin): Linear(in_features=768, out_features=768, bias=True)\n",
       "          )\n",
       "          (sa_layer_norm): LayerNorm((768,), eps=1e-12, elementwise_affine=True)\n",
       "          (ffn): FFN(\n",
       "            (dropout): Dropout(p=0.1, inplace=False)\n",
       "            (lin1): Linear(in_features=768, out_features=3072, bias=True)\n",
       "            (lin2): Linear(in_features=3072, out_features=768, bias=True)\n",
       "            (activation): GELUActivation()\n",
       "          )\n",
       "          (output_layer_norm): LayerNorm((768,), eps=1e-12, elementwise_affine=True)\n",
       "        )\n",
       "        (1): TransformerBlock(\n",
       "          (attention): MultiHeadSelfAttention(\n",
       "            (dropout): Dropout(p=0.1, inplace=False)\n",
       "            (q_lin): Linear(in_features=768, out_features=768, bias=True)\n",
       "            (k_lin): Linear(in_features=768, out_features=768, bias=True)\n",
       "            (v_lin): Linear(in_features=768, out_features=768, bias=True)\n",
       "            (out_lin): Linear(in_features=768, out_features=768, bias=True)\n",
       "          )\n",
       "          (sa_layer_norm): LayerNorm((768,), eps=1e-12, elementwise_affine=True)\n",
       "          (ffn): FFN(\n",
       "            (dropout): Dropout(p=0.1, inplace=False)\n",
       "            (lin1): Linear(in_features=768, out_features=3072, bias=True)\n",
       "            (lin2): Linear(in_features=3072, out_features=768, bias=True)\n",
       "            (activation): GELUActivation()\n",
       "          )\n",
       "          (output_layer_norm): LayerNorm((768,), eps=1e-12, elementwise_affine=True)\n",
       "        )\n",
       "        (2): TransformerBlock(\n",
       "          (attention): MultiHeadSelfAttention(\n",
       "            (dropout): Dropout(p=0.1, inplace=False)\n",
       "            (q_lin): Linear(in_features=768, out_features=768, bias=True)\n",
       "            (k_lin): Linear(in_features=768, out_features=768, bias=True)\n",
       "            (v_lin): Linear(in_features=768, out_features=768, bias=True)\n",
       "            (out_lin): Linear(in_features=768, out_features=768, bias=True)\n",
       "          )\n",
       "          (sa_layer_norm): LayerNorm((768,), eps=1e-12, elementwise_affine=True)\n",
       "          (ffn): FFN(\n",
       "            (dropout): Dropout(p=0.1, inplace=False)\n",
       "            (lin1): Linear(in_features=768, out_features=3072, bias=True)\n",
       "            (lin2): Linear(in_features=3072, out_features=768, bias=True)\n",
       "            (activation): GELUActivation()\n",
       "          )\n",
       "          (output_layer_norm): LayerNorm((768,), eps=1e-12, elementwise_affine=True)\n",
       "        )\n",
       "        (3): TransformerBlock(\n",
       "          (attention): MultiHeadSelfAttention(\n",
       "            (dropout): Dropout(p=0.1, inplace=False)\n",
       "            (q_lin): Linear(in_features=768, out_features=768, bias=True)\n",
       "            (k_lin): Linear(in_features=768, out_features=768, bias=True)\n",
       "            (v_lin): Linear(in_features=768, out_features=768, bias=True)\n",
       "            (out_lin): Linear(in_features=768, out_features=768, bias=True)\n",
       "          )\n",
       "          (sa_layer_norm): LayerNorm((768,), eps=1e-12, elementwise_affine=True)\n",
       "          (ffn): FFN(\n",
       "            (dropout): Dropout(p=0.1, inplace=False)\n",
       "            (lin1): Linear(in_features=768, out_features=3072, bias=True)\n",
       "            (lin2): Linear(in_features=3072, out_features=768, bias=True)\n",
       "            (activation): GELUActivation()\n",
       "          )\n",
       "          (output_layer_norm): LayerNorm((768,), eps=1e-12, elementwise_affine=True)\n",
       "        )\n",
       "        (4): TransformerBlock(\n",
       "          (attention): MultiHeadSelfAttention(\n",
       "            (dropout): Dropout(p=0.1, inplace=False)\n",
       "            (q_lin): Linear(in_features=768, out_features=768, bias=True)\n",
       "            (k_lin): Linear(in_features=768, out_features=768, bias=True)\n",
       "            (v_lin): Linear(in_features=768, out_features=768, bias=True)\n",
       "            (out_lin): Linear(in_features=768, out_features=768, bias=True)\n",
       "          )\n",
       "          (sa_layer_norm): LayerNorm((768,), eps=1e-12, elementwise_affine=True)\n",
       "          (ffn): FFN(\n",
       "            (dropout): Dropout(p=0.1, inplace=False)\n",
       "            (lin1): Linear(in_features=768, out_features=3072, bias=True)\n",
       "            (lin2): Linear(in_features=3072, out_features=768, bias=True)\n",
       "            (activation): GELUActivation()\n",
       "          )\n",
       "          (output_layer_norm): LayerNorm((768,), eps=1e-12, elementwise_affine=True)\n",
       "        )\n",
       "        (5): TransformerBlock(\n",
       "          (attention): MultiHeadSelfAttention(\n",
       "            (dropout): Dropout(p=0.1, inplace=False)\n",
       "            (q_lin): Linear(in_features=768, out_features=768, bias=True)\n",
       "            (k_lin): Linear(in_features=768, out_features=768, bias=True)\n",
       "            (v_lin): Linear(in_features=768, out_features=768, bias=True)\n",
       "            (out_lin): Linear(in_features=768, out_features=768, bias=True)\n",
       "          )\n",
       "          (sa_layer_norm): LayerNorm((768,), eps=1e-12, elementwise_affine=True)\n",
       "          (ffn): FFN(\n",
       "            (dropout): Dropout(p=0.1, inplace=False)\n",
       "            (lin1): Linear(in_features=768, out_features=3072, bias=True)\n",
       "            (lin2): Linear(in_features=3072, out_features=768, bias=True)\n",
       "            (activation): GELUActivation()\n",
       "          )\n",
       "          (output_layer_norm): LayerNorm((768,), eps=1e-12, elementwise_affine=True)\n",
       "        )\n",
       "      )\n",
       "    )\n",
       "  )\n",
       "  (pre_classifier): Linear(in_features=768, out_features=768, bias=True)\n",
       "  (dropout): Dropout(p=0.1, inplace=False)\n",
       "  (classifier): Linear(in_features=768, out_features=1, bias=True)\n",
       ")"
      ]
     },
     "execution_count": 15,
     "metadata": {},
     "output_type": "execute_result"
    }
   ],
   "source": [
    "#model = DistilBERTClass()\n",
    "model = torch.load('/content/drive/MyDrive/Colab Notebooks/toxicbert_FULLTRAIN.bin')\n",
    "model.eval()"
   ]
  },
  {
   "cell_type": "markdown",
   "metadata": {
    "id": "8_lkbqylVpGu"
   },
   "source": [
    "# ***Imports / PIPs***"
   ]
  },
  {
   "cell_type": "code",
   "execution_count": null,
   "metadata": {
    "colab": {
     "base_uri": "https://localhost:8080/"
    },
    "id": "ezEfl1jZ0MVZ",
    "outputId": "275e3a69-526e-40f3-d44d-b64b28f80f2f"
   },
   "outputs": [
    {
     "name": "stdout",
     "output_type": "stream",
     "text": [
      "Looking in indexes: https://pypi.org/simple, https://us-python.pkg.dev/colab-wheels/public/simple/\n",
      "Collecting transformers\n",
      "  Downloading transformers-4.25.1-py3-none-any.whl (5.8 MB)\n",
      "\u001b[K     |████████████████████████████████| 5.8 MB 5.1 MB/s \n",
      "\u001b[?25hCollecting tokenizers!=0.11.3,<0.14,>=0.11.1\n",
      "  Downloading tokenizers-0.13.2-cp38-cp38-manylinux_2_17_x86_64.manylinux2014_x86_64.whl (7.6 MB)\n",
      "\u001b[K     |████████████████████████████████| 7.6 MB 66.1 MB/s \n",
      "\u001b[?25hRequirement already satisfied: filelock in /usr/local/lib/python3.8/dist-packages (from transformers) (3.8.2)\n",
      "Requirement already satisfied: tqdm>=4.27 in /usr/local/lib/python3.8/dist-packages (from transformers) (4.64.1)\n",
      "Requirement already satisfied: regex!=2019.12.17 in /usr/local/lib/python3.8/dist-packages (from transformers) (2022.6.2)\n",
      "Requirement already satisfied: pyyaml>=5.1 in /usr/local/lib/python3.8/dist-packages (from transformers) (6.0)\n",
      "Requirement already satisfied: requests in /usr/local/lib/python3.8/dist-packages (from transformers) (2.23.0)\n",
      "Collecting huggingface-hub<1.0,>=0.10.0\n",
      "  Downloading huggingface_hub-0.11.1-py3-none-any.whl (182 kB)\n",
      "\u001b[K     |████████████████████████████████| 182 kB 83.9 MB/s \n",
      "\u001b[?25hRequirement already satisfied: packaging>=20.0 in /usr/local/lib/python3.8/dist-packages (from transformers) (21.3)\n",
      "Requirement already satisfied: numpy>=1.17 in /usr/local/lib/python3.8/dist-packages (from transformers) (1.21.6)\n",
      "Requirement already satisfied: typing-extensions>=3.7.4.3 in /usr/local/lib/python3.8/dist-packages (from huggingface-hub<1.0,>=0.10.0->transformers) (4.4.0)\n",
      "Requirement already satisfied: pyparsing!=3.0.5,>=2.0.2 in /usr/local/lib/python3.8/dist-packages (from packaging>=20.0->transformers) (3.0.9)\n",
      "Requirement already satisfied: idna<3,>=2.5 in /usr/local/lib/python3.8/dist-packages (from requests->transformers) (2.10)\n",
      "Requirement already satisfied: chardet<4,>=3.0.2 in /usr/local/lib/python3.8/dist-packages (from requests->transformers) (3.0.4)\n",
      "Requirement already satisfied: certifi>=2017.4.17 in /usr/local/lib/python3.8/dist-packages (from requests->transformers) (2022.12.7)\n",
      "Requirement already satisfied: urllib3!=1.25.0,!=1.25.1,<1.26,>=1.21.1 in /usr/local/lib/python3.8/dist-packages (from requests->transformers) (1.24.3)\n",
      "Installing collected packages: tokenizers, huggingface-hub, transformers\n",
      "Successfully installed huggingface-hub-0.11.1 tokenizers-0.13.2 transformers-4.25.1\n"
     ]
    }
   ],
   "source": [
    "!pip install transformers"
   ]
  },
  {
   "cell_type": "code",
   "execution_count": null,
   "metadata": {
    "id": "KMw82-RW03FK"
   },
   "outputs": [],
   "source": [
    "# Importing stock ml libraries\n",
    "import warnings\n",
    "warnings.simplefilter('ignore')\n",
    "import numpy as np\n",
    "import pandas as pd\n",
    "from tqdm import tqdm\n",
    "from sklearn import metrics\n",
    "import transformers\n",
    "import torch\n",
    "from torch.utils.data import Dataset, DataLoader, RandomSampler, SequentialSampler\n",
    "from transformers import DistilBertTokenizer, DistilBertModel\n",
    "import logging\n",
    "logging.basicConfig(level=logging.ERROR)"
   ]
  },
  {
   "cell_type": "code",
   "execution_count": null,
   "metadata": {
    "id": "v5lWHVxJfbYy"
   },
   "outputs": [],
   "source": [
    "# # Setting up the device for GPU usage\n",
    "\n",
    "from torch import cuda\n",
    "device = 'cuda' if cuda.is_available() else 'cpu'"
   ]
  },
  {
   "cell_type": "code",
   "execution_count": null,
   "metadata": {
    "colab": {
     "base_uri": "https://localhost:8080/"
    },
    "id": "Qwy4oS3wHk_7",
    "outputId": "01164755-58c4-4f37-89fc-5457a3a0dfbb"
   },
   "outputs": [
    {
     "name": "stdout",
     "output_type": "stream",
     "text": [
      "cuda\n"
     ]
    }
   ],
   "source": [
    "print(device)"
   ]
  },
  {
   "cell_type": "code",
   "execution_count": null,
   "metadata": {
    "colab": {
     "base_uri": "https://localhost:8080/"
    },
    "id": "YY0dw3IkWgAy",
    "outputId": "06b1d87b-a7ed-4f9b-a589-fb17fbc26730"
   },
   "outputs": [
    {
     "name": "stdout",
     "output_type": "stream",
     "text": [
      "Looking in indexes: https://pypi.org/simple, https://us-python.pkg.dev/colab-wheels/public/simple/\n",
      "Requirement already satisfied: kaggle in /usr/local/lib/python3.8/dist-packages (1.5.12)\n",
      "Requirement already satisfied: six>=1.10 in /usr/local/lib/python3.8/dist-packages (from kaggle) (1.15.0)\n",
      "Requirement already satisfied: tqdm in /usr/local/lib/python3.8/dist-packages (from kaggle) (4.64.1)\n",
      "Requirement already satisfied: urllib3 in /usr/local/lib/python3.8/dist-packages (from kaggle) (1.24.3)\n",
      "Requirement already satisfied: python-dateutil in /usr/local/lib/python3.8/dist-packages (from kaggle) (2.8.2)\n",
      "Requirement already satisfied: certifi in /usr/local/lib/python3.8/dist-packages (from kaggle) (2022.12.7)\n",
      "Requirement already satisfied: python-slugify in /usr/local/lib/python3.8/dist-packages (from kaggle) (7.0.0)\n",
      "Requirement already satisfied: requests in /usr/local/lib/python3.8/dist-packages (from kaggle) (2.23.0)\n",
      "Requirement already satisfied: text-unidecode>=1.3 in /usr/local/lib/python3.8/dist-packages (from python-slugify->kaggle) (1.3)\n",
      "Requirement already satisfied: idna<3,>=2.5 in /usr/local/lib/python3.8/dist-packages (from requests->kaggle) (2.10)\n",
      "Requirement already satisfied: chardet<4,>=3.0.2 in /usr/local/lib/python3.8/dist-packages (from requests->kaggle) (3.0.4)\n",
      "cp: cannot stat 'kaggle.json': No such file or directory\n",
      "chmod: cannot access '/root/.kaggle/kaggle.json': No such file or directory\n"
     ]
    }
   ],
   "source": [
    "! pip install kaggle\n",
    "! mkdir ~/.kaggle\n",
    "! cp kaggle.json ~/.kaggle/\n",
    "! chmod 600 ~/.kaggle/kaggle.json"
   ]
  },
  {
   "cell_type": "markdown",
   "metadata": {
    "id": "pjUq0sfGfKoL"
   },
   "source": [
    "# ***Functions, Classes and Architecture***"
   ]
  },
  {
   "cell_type": "markdown",
   "metadata": {
    "id": "hcmd5I2Zf6sM"
   },
   "source": [
    "## Model Class / Architecture\n",
    "The ***architecture*** is rather simple, it consists of\n",
    "\n",
    "*   Distilbert layer\n",
    "*   Linear layer\n",
    "*   Dropout layer\n",
    "*   Classifier layer\n",
    "\n",
    "for the ***Forward*** pass:\n",
    "\n",
    "1.   `outputs_1` are the outputs of the Distilbert layer donated l1\n",
    "2.   `hidden_state` are the tensors/predictions of the Distilbert\n",
    "3.   `pooler` get only the CLS part of all predictions ( the CLS part is the prediction )\n",
    "4.   `pooler` put preditctions in the network\n",
    "5.   `pooler` apply non-linearity ( tanh ) to the prediction\n",
    "6.   `pooler` apply regularization\n",
    "7.   `output` get final classification\n",
    "\n",
    "\n",
    "---\n",
    "![Untitled.png](data:image/png;base64,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)\n"
   ]
  },
  {
   "cell_type": "code",
   "execution_count": null,
   "metadata": {
    "id": "oIOIvhGogLYT"
   },
   "outputs": [],
   "source": [
    "# Creating the customized model, by adding a drop out and a dense layer on top of distil bert to get the final output for the model. \n",
    "\n",
    "class DistilBERTClass(torch.nn.Module): # inherites from torch.nn.module\n",
    "    def __init__(self):\n",
    "        super(DistilBERTClass, self).__init__()\n",
    "        self.l1 = DistilBertModel.from_pretrained(\"distilbert-base-uncased\")\n",
    "        self.pre_classifier = torch.nn.Linear(768, 768)\n",
    "        self.dropout = torch.nn.Dropout(0.1)\n",
    "        self.classifier = torch.nn.Linear(768, 1)\n",
    "\n",
    "    def forward(self, input_ids, attention_mask, token_type_ids):\n",
    "        output_1 = self.l1(input_ids=input_ids, attention_mask=attention_mask) # [number of examples, max number of tokens , number of hidden units]\n",
    "        hidden_state = output_1[0] # predictions same as comment above (num ex , max len , num of hidden)\n",
    "        pooler = hidden_state[:, 0] # all examples (sentences) CLS only ( first token which is prediction )\n",
    "        pooler = self.pre_classifier(pooler) \n",
    "        pooler = torch.nn.Tanh()(pooler) \n",
    "        pooler = self.dropout(pooler) # apply regularization\n",
    "        output = self.classifier(pooler) # linear classification\n",
    "        return output\n"
   ]
  },
  {
   "cell_type": "markdown",
   "metadata": {
    "id": "B_L1P3irfbSS"
   },
   "source": [
    "## Preprocessor / Dataset class\n",
    "Takes a dataframe, Tokenizer and max_len variable\n",
    "Functions in the class\n",
    "\n",
    "1.   __len__ ( returns len of text )\n",
    "2.   __getitem__ ( returns text tokenized and encoded )\n",
    "\n",
    "returns preprocessed and tokenized dataset\n"
   ]
  },
  {
   "cell_type": "code",
   "execution_count": null,
   "metadata": {
    "id": "FfTk9Sm3fPBR"
   },
   "outputs": [],
   "source": [
    "class Preprocessor(Dataset):\n",
    "  def __init__(self,dataframe,tokenizer,max_len):\n",
    "    self.dataframe = dataframe\n",
    "    self.tokenizer = tokenizer\n",
    "    self.max_len = max_len\n",
    "    self.text = dataframe.comment_text\n",
    "    self.targets = dataframe.toxic\n",
    "\n",
    "  def __len__(self):\n",
    "    return len(self.text)\n",
    "\n",
    "  def __getitem__(self,index):\n",
    "    row_text = str(self.text[index])\n",
    "    row_text = \" \".join(row_text.split())\n",
    "\n",
    "    inputs = self.tokenizer.encode_plus(\n",
    "          row_text,\n",
    "          None,\n",
    "          add_special_tokens=True,\n",
    "          max_length=self.max_len,\n",
    "          pad_to_max_length=True,\n",
    "          return_token_type_ids=True\n",
    "      )\n",
    "    \n",
    "    ids = inputs['input_ids'] # numbers that represent tokens\n",
    "    mask = inputs['attention_mask'] # attention masks \n",
    "    token_type_ids = inputs[\"token_type_ids\"] # only useful in two sentences input ( or two types of inputs )\n",
    "\n",
    "\n",
    "    return {\n",
    "        'ids': torch.tensor(ids, dtype=torch.long),\n",
    "        'mask': torch.tensor(mask, dtype=torch.long),\n",
    "        'token_type_ids': torch.tensor(token_type_ids, dtype=torch.long),\n",
    "        'targets': torch.tensor(self.targets[index], dtype=torch.float)\n",
    "    }"
   ]
  },
  {
   "cell_type": "markdown",
   "metadata": {
    "id": "WznKbdkYgdQf"
   },
   "source": [
    "## Other Functions"
   ]
  },
  {
   "cell_type": "markdown",
   "metadata": {
    "id": "abNYF4lfVvRE"
   },
   "source": [
    "### Loss function"
   ]
  },
  {
   "cell_type": "code",
   "execution_count": null,
   "metadata": {
    "id": "YbRLCgf8gfxn"
   },
   "outputs": [],
   "source": [
    "def loss_fn(outputs, targets):\n",
    "    return torch.nn.BCEWithLogitsLoss()(outputs, targets)"
   ]
  },
  {
   "cell_type": "markdown",
   "metadata": {
    "id": "zQUV8TVBV2Pc"
   },
   "source": [
    "### Train function\n",
    "\n",
    "\n",
    "1.   `model.train()` tells the model that I'm trainning ( helps inform some layers )\n",
    "2.   Iterate on trainning_loader(dataset) <br> `_` : Number of iterations, data : `data` batch of trainning_set (dataloader handles what i'm thinking lol) \n",
    "\n",
    "\n",
    "Start of the loop:\n",
    "\n",
    "1.   Get (`ids`, `mask`, `token_type_ids`, `targets`) from the data and send them to device (GPU/CPU)\n",
    "2.   Get outputs from model (apply forward pass on inputs)\n",
    "3.   Reset gradients\n",
    "4.   Calculate loss\n",
    "5.   Calculate Gradient\n",
    "6.   Step with optimizer ( Update parameters )"
   ]
  },
  {
   "cell_type": "code",
   "execution_count": null,
   "metadata": {
    "id": "k8TJIrEVgmRc"
   },
   "outputs": [],
   "source": [
    "def train(epoch):\n",
    "    #1\n",
    "    model.train()\n",
    "    #2\n",
    "    correct = 0\n",
    "    for _,data in tqdm(enumerate(training_loader, 0)):\n",
    "        #1\n",
    "        ids = data['ids'].to(device, dtype = torch.long)\n",
    "        mask = data['mask'].to(device, dtype = torch.long)\n",
    "        token_type_ids = data['token_type_ids'].to(device, dtype = torch.long)\n",
    "        targets = data['targets'].to(device, dtype = torch.float)\n",
    "\n",
    "        #2\n",
    "        outputs = model(ids, mask, token_type_ids)\n",
    "\n",
    "        #3\n",
    "        optimizer.zero_grad()\n",
    "\n",
    "\n",
    "        targets = targets.unsqueeze(1)\n",
    "        #4\n",
    "        loss = loss_fn(outputs, targets)\n",
    "\n",
    "        if _%100==0: \n",
    "            print(f'Epoch: {epoch}, Loss:  {loss.item()}') ## print loss and epoch\n",
    "        #5\n",
    "        loss.backward()\n",
    "\n",
    "        #6\n",
    "        optimizer.step()\n",
    "\n",
    "        correct += (outputs == targets).float().sum()\n",
    "    accuracy = 100 * correct / len(training_set)\n",
    "    print(\"Accuracy = {}\".format(accuracy))"
   ]
  },
  {
   "cell_type": "code",
   "execution_count": null,
   "metadata": {
    "id": "EFhtpUXhgids"
   },
   "outputs": [],
   "source": [
    "def validation(testing_loader):\n",
    "    model.eval()\n",
    "    fin_targets=[]\n",
    "    fin_outputs=[]\n",
    "    with torch.no_grad():\n",
    "        for _, data in tqdm(enumerate(testing_loader, 0)):\n",
    "            ids = data['ids'].to(device, dtype = torch.long)\n",
    "            mask = data['mask'].to(device, dtype = torch.long)\n",
    "            token_type_ids = data['token_type_ids'].to(device, dtype = torch.long)\n",
    "            targets = data['targets'].to(device, dtype = torch.float)\n",
    "            outputs = model(ids, mask, token_type_ids)\n",
    "            fin_targets.extend(targets.cpu().detach().numpy().tolist())\n",
    "            fin_outputs.extend(torch.sigmoid(outputs).cpu().detach().numpy().tolist())\n",
    "    return fin_outputs, fin_targets"
   ]
  },
  {
   "cell_type": "markdown",
   "metadata": {
    "id": "CyaK8up8VzzE"
   },
   "source": [
    "### Validation Function"
   ]
  },
  {
   "cell_type": "code",
   "execution_count": null,
   "metadata": {
    "id": "cK84RXWWFYQz"
   },
   "outputs": [],
   "source": [
    "def validation(testing_loader):\n",
    "    model.eval()\n",
    "    fin_targets=[]\n",
    "    fin_outputs=[]\n",
    "    with torch.no_grad():\n",
    "        for _, data in tqdm(enumerate(testing_loader, 0)):\n",
    "            ids = data['ids'].to(device, dtype = torch.long)\n",
    "            mask = data['mask'].to(device, dtype = torch.long)\n",
    "            token_type_ids = data['token_type_ids'].to(device, dtype = torch.long)\n",
    "            targets = data['targets'].to(device, dtype = torch.float)\n",
    "            outputs = model(ids, mask, token_type_ids)\n",
    "            fin_targets.extend(targets.cpu().detach().numpy().tolist())\n",
    "            fin_outputs.extend(torch.sigmoid(outputs).cpu().detach().numpy().tolist())\n",
    "    return fin_outputs, fin_targets"
   ]
  },
  {
   "cell_type": "markdown",
   "metadata": {
    "id": "zZ_-YqRPV6KE"
   },
   "source": [
    "### Hamming function\n",
    "Simple hamming score/loss calculations, not worthy of any explination"
   ]
  },
  {
   "cell_type": "code",
   "execution_count": null,
   "metadata": {
    "id": "l22pTO3Qgyyr"
   },
   "outputs": [],
   "source": [
    "def hamming_score(y_true, y_pred, normalize=True, sample_weight=None):\n",
    "    acc_list = []\n",
    "    for i in range(y_true.shape[0]):\n",
    "        set_true = set( np.where(y_true[i])[0] )\n",
    "        set_pred = set( np.where(y_pred[i])[0] )\n",
    "        tmp_a = None\n",
    "        if len(set_true) == 0 and len(set_pred) == 0:\n",
    "            tmp_a = 1\n",
    "        else:\n",
    "            tmp_a = len(set_true.intersection(set_pred))/\\\n",
    "                    float( len(set_true.union(set_pred)) )\n",
    "        acc_list.append(tmp_a)\n",
    "    return np.mean(acc_list)"
   ]
  },
  {
   "cell_type": "markdown",
   "metadata": {
    "id": "T313zoZCWCIJ"
   },
   "source": [
    "# ***Download And Unzip Dataset***"
   ]
  },
  {
   "cell_type": "code",
   "execution_count": null,
   "metadata": {
    "colab": {
     "base_uri": "https://localhost:8080/"
    },
    "id": "qxeURtS9Wwov",
    "outputId": "3cef8451-8b7b-4ce6-9061-3bdc8f7d78d3"
   },
   "outputs": [
    {
     "name": "stdout",
     "output_type": "stream",
     "text": [
      "Downloading toxic-comment-classification.zip to /content\n",
      " 98% 20.0M/20.5M [00:02<00:00, 14.0MB/s]\n",
      "100% 20.5M/20.5M [00:02<00:00, 10.1MB/s]\n"
     ]
    }
   ],
   "source": [
    "! kaggle datasets download akashsuper2000/toxic-comment-classification"
   ]
  },
  {
   "cell_type": "code",
   "execution_count": null,
   "metadata": {
    "colab": {
     "base_uri": "https://localhost:8080/"
    },
    "id": "LZzSQwchW0TM",
    "outputId": "0d67f064-a2d1-490a-e0b7-f129ddb112f3"
   },
   "outputs": [
    {
     "name": "stdout",
     "output_type": "stream",
     "text": [
      "Archive:  /content/toxic-comment-classification.zip\n",
      "  inflating: test.csv                \n",
      "  inflating: train.csv               \n",
      "  inflating: validation.csv          \n"
     ]
    }
   ],
   "source": [
    "!unzip '/content/toxic-comment-classification.zip'"
   ]
  },
  {
   "cell_type": "markdown",
   "metadata": {
    "id": "4usIHodUW_0k"
   },
   "source": [
    "# ***Config / Settings***"
   ]
  },
  {
   "cell_type": "code",
   "execution_count": null,
   "metadata": {
    "id": "R28aFguthnSC"
   },
   "outputs": [],
   "source": [
    "# Sections of config\n",
    "# Defining some key variables that will be used later on in the training\n",
    "\n",
    "MAX_LEN = 128\n",
    "TRAIN_BATCH_SIZE = 4\n",
    "VALID_BATCH_SIZE = 4 \n",
    "TEST_BATCH_SIZE = 4\n",
    "EPOCHS = 1\n",
    "LEARNING_RATE = 1e-05\n",
    "CLASSIFY_THRESHOLD = 0.5\n",
    "\n",
    "train_params = {'batch_size': TRAIN_BATCH_SIZE,\n",
    "                'shuffle': True,\n",
    "                'num_workers': 0\n",
    "                }\n",
    "valid_params = {'batch_size': VALID_BATCH_SIZE,\n",
    "                'shuffle': True,\n",
    "                'num_workers': 0\n",
    "                }\n",
    "test_params = {'batch_size': TEST_BATCH_SIZE,\n",
    "                'shuffle': True,\n",
    "                'num_workers': 0\n",
    "                }"
   ]
  },
  {
   "cell_type": "markdown",
   "metadata": {
    "id": "vcXswDHU1V0A"
   },
   "source": [
    "# ***Prepare Inputs***"
   ]
  },
  {
   "cell_type": "markdown",
   "metadata": {
    "id": "O4URg3k31PpB"
   },
   "source": [
    "## Read Dataset"
   ]
  },
  {
   "cell_type": "code",
   "execution_count": null,
   "metadata": {
    "id": "Zg2OA3IMXYNZ"
   },
   "outputs": [],
   "source": [
    "train_data = pd.read_csv('/content/train.csv')\n",
    "valid_data = pd.read_csv('/content/validation.csv')\n",
    "test_data = pd.read_csv(\"/content/train.csv\")\n",
    "#data['labels'] = data.iloc[:, 1:].values.tolist()"
   ]
  },
  {
   "cell_type": "markdown",
   "metadata": {
    "id": "FyIIGBGC3jgY"
   },
   "source": [
    "## Initialize Tokenizer"
   ]
  },
  {
   "cell_type": "code",
   "execution_count": null,
   "metadata": {
    "colab": {
     "base_uri": "https://localhost:8080/",
     "height": 113,
     "referenced_widgets": [
      "212a4ce31331471db7ebcec20b66cc0d",
      "8dc2a778c5b2496ba2a1dac9a9372674",
      "57b487b6cb604e178928ea4b8a0d09d1",
      "42c7a82a877f43d28639be5b5cd1cf87",
      "56c43b76fc7a4073af3c33944ae22a0f",
      "ae4e026c7ec841dd9e79c6758737c775",
      "b151b57066ab4c6788c99951ae3f2371",
      "09dc4d2086ce469ea7ad288c5bc8abae",
      "685a89c8f832443081bfcbb019f4d54b",
      "4cc1fdd66b994583984c7c68a418798a",
      "868adf07cd5a4d42aae965e3bf7fb2ca",
      "dd1c4bd3d13e42e28dd15a3eeb3a0c64",
      "4589bec57c3e4f469d00e2a088770751",
      "ffcd013c3a8f4281b624c9d5ee91a1b1",
      "4c1532cb4082491e8d098e9ad982d581",
      "d795579590224ef485ae56dd1728203d",
      "fd72fc6d1e804371aaba9c3ec012c017",
      "4ebec42bd1274e8db551666aa9180dd8",
      "918d480e77cf4c74860efdd8f7c740a5",
      "4211c52e3d92482fb278c20fc59d2daa",
      "6d06b226fda94c7798c9bf45888057a8",
      "b92789cfa3e0427da9d733ae41741d13",
      "7fcb1c811b87408fbaa26d3f66094e8d",
      "68db60baad0f46c6b6e8a3df03c0f792",
      "a510e29dcfc2437ea1c3a69d342d8b0c",
      "03d011535a134e3e9be08194435bc61b",
      "45b482687fde48d3be28cb211313a886",
      "6ade0e87756e442ab2332e3c5a2c54b6",
      "2bf9f7ffddf8456a8e0277218b6bcad8",
      "29823090ca164aeb9ef4c8ee3d51aad6",
      "551e26f0cadd49028b4c1dc2c680e5ea",
      "0e349ac971214aa0b0dd07938b33db51",
      "579a4a7405da4547917fca1f5030c602"
     ]
    },
    "id": "BG3C8eHt3ovn",
    "outputId": "be2f73e1-a82d-42e1-fba9-8ce9dac60881"
   },
   "outputs": [
    {
     "data": {
      "application/vnd.jupyter.widget-view+json": {
       "model_id": "212a4ce31331471db7ebcec20b66cc0d",
       "version_major": 2,
       "version_minor": 0
      },
      "text/plain": [
       "Downloading:   0%|          | 0.00/232k [00:00<?, ?B/s]"
      ]
     },
     "metadata": {},
     "output_type": "display_data"
    },
    {
     "data": {
      "application/vnd.jupyter.widget-view+json": {
       "model_id": "dd1c4bd3d13e42e28dd15a3eeb3a0c64",
       "version_major": 2,
       "version_minor": 0
      },
      "text/plain": [
       "Downloading:   0%|          | 0.00/28.0 [00:00<?, ?B/s]"
      ]
     },
     "metadata": {},
     "output_type": "display_data"
    },
    {
     "data": {
      "application/vnd.jupyter.widget-view+json": {
       "model_id": "7fcb1c811b87408fbaa26d3f66094e8d",
       "version_major": 2,
       "version_minor": 0
      },
      "text/plain": [
       "Downloading:   0%|          | 0.00/483 [00:00<?, ?B/s]"
      ]
     },
     "metadata": {},
     "output_type": "display_data"
    }
   ],
   "source": [
    "tokenizer = DistilBertTokenizer.from_pretrained('distilbert-base-uncased', truncation=True, do_lower_case=True)"
   ]
  },
  {
   "cell_type": "markdown",
   "metadata": {
    "id": "5jFaZn4W1B9L"
   },
   "source": [
    "## Split data & Prepare Dataset and Dataloader"
   ]
  },
  {
   "cell_type": "code",
   "execution_count": null,
   "metadata": {
    "colab": {
     "base_uri": "https://localhost:8080/"
    },
    "id": "WdirQJmk1ScB",
    "outputId": "1468a78e-f952-4a54-a0a8-87de2e76eae0"
   },
   "outputs": [
    {
     "name": "stdout",
     "output_type": "stream",
     "text": [
      "TRAIN Dataset: (120000, 2)\n",
      "VALID Dataset: (20000, 2)\n",
      "TEST Dataset: (120000, 2)\n"
     ]
    }
   ],
   "source": [
    "# Creating the dataset and dataloader for the neural network\n",
    "\n",
    "train_size = 1 # test data = 0.8 of whole data\n",
    "\n",
    "train_data= data.sample(frac=train_size,random_state=200) # randomize whole data and return train_size frac of if\n",
    "#test_data=data.drop(train_data.index).reset_index(drop=True) # test data = rest of whole data\n",
    "#train_data = train_data.reset_index(drop=True)\n",
    "\n",
    "\n",
    "#print(\"FULL Dataset: {}\".format(data.shape))\n",
    "print(\"TRAIN Dataset: {}\".format(train_data.shape))\n",
    "print(\"VALID Dataset: {}\".format(valid_data.shape))\n",
    "print(\"TEST Dataset: {}\".format(test_data.shape))"
   ]
  },
  {
   "cell_type": "code",
   "execution_count": null,
   "metadata": {
    "id": "gc_y7hSMd_L5"
   },
   "outputs": [],
   "source": [
    "training_set = Preprocessor(train_data, tokenizer, MAX_LEN)\n",
    "valid_set = Preprocessor(valid_data, tokenizer, MAX_LEN)\n",
    "testing_set = Preprocessor(test_data, tokenizer, MAX_LEN)"
   ]
  },
  {
   "cell_type": "code",
   "execution_count": null,
   "metadata": {
    "id": "ja1UbbT1R7P7"
   },
   "outputs": [],
   "source": [
    "training_loader = DataLoader(training_set, **train_params)\n",
    "valid_loader = DataLoader(valid_set, **valid_params)\n",
    "testing_loader = DataLoader(testing_set, **test_params)"
   ]
  },
  {
   "cell_type": "markdown",
   "metadata": {
    "id": "PiwbES7FSkWb"
   },
   "source": [
    "# ***Creating Neural Network***\n"
   ]
  },
  {
   "cell_type": "markdown",
   "metadata": {
    "id": "qrbjsr2ggU9f"
   },
   "source": [
    "## Initialize Model"
   ]
  },
  {
   "cell_type": "code",
   "execution_count": null,
   "metadata": {
    "colab": {
     "base_uri": "https://localhost:8080/",
     "height": 121,
     "referenced_widgets": [
      "3a723a10286e43b7961ac8af922e225a",
      "6d627aad56964126a160d60c42e44320",
      "6cbb949067f64bb7a240d0e1afe03734",
      "d4056e77dc574c0ca8ef5697d13c4cf3",
      "0363bbf94b664244b3af2fc0a730d04b",
      "d184e39d7a8048619e1991fb47b5d8c6",
      "8483b653eef74b0aa6edbc30169ed3f8",
      "97e4a0f4149b4fa7b48c66ab8a13e492",
      "95d23ed973dc40c381db624199251e55",
      "0e3908e5a1314e5a979ba362a0f60e90",
      "704e9b5eb1f04fa197d71f3bc697fe6e"
     ]
    },
    "id": "W2H1U8lnVKpf",
    "outputId": "c6ad7432-3d7e-4e03-ad02-a6845915c173"
   },
   "outputs": [
    {
     "data": {
      "application/vnd.jupyter.widget-view+json": {
       "model_id": "3a723a10286e43b7961ac8af922e225a",
       "version_major": 2,
       "version_minor": 0
      },
      "text/plain": [
       "Downloading:   0%|          | 0.00/268M [00:00<?, ?B/s]"
      ]
     },
     "metadata": {},
     "output_type": "display_data"
    },
    {
     "name": "stderr",
     "output_type": "stream",
     "text": [
      "Some weights of the model checkpoint at distilbert-base-uncased were not used when initializing DistilBertModel: ['vocab_layer_norm.bias', 'vocab_transform.weight', 'vocab_layer_norm.weight', 'vocab_transform.bias', 'vocab_projector.weight', 'vocab_projector.bias']\n",
      "- This IS expected if you are initializing DistilBertModel from the checkpoint of a model trained on another task or with another architecture (e.g. initializing a BertForSequenceClassification model from a BertForPreTraining model).\n",
      "- This IS NOT expected if you are initializing DistilBertModel from the checkpoint of a model that you expect to be exactly identical (initializing a BertForSequenceClassification model from a BertForSequenceClassification model).\n"
     ]
    }
   ],
   "source": [
    "model = DistilBERTClass()\n",
    "model.to(device) # move the model to GPU\n",
    "\n",
    "optimizer = torch.optim.Adam(params =  model.parameters(), lr=LEARNING_RATE)"
   ]
  },
  {
   "cell_type": "markdown",
   "metadata": {
    "id": "0N3HnXHzeC04"
   },
   "source": [
    "## Trainning"
   ]
  },
  {
   "cell_type": "code",
   "execution_count": null,
   "metadata": {
    "colab": {
     "base_uri": "https://localhost:8080/"
    },
    "id": "PhVeMahVf0Q2",
    "outputId": "5f2498fb-aea8-4587-eeb9-76800294bcc4"
   },
   "outputs": [
    {
     "metadata": {
      "tags": null
     },
     "name": "stderr",
     "output_type": "stream",
     "text": [
      "0it [00:00, ?it/s]Truncation was not explicitly activated but `max_length` is provided a specific value, please use `truncation=True` to explicitly truncate examples to max length. Defaulting to 'longest_first' truncation strategy. If you encode pairs of sequences (GLUE-style) with the tokenizer you can select this strategy more precisely by providing a specific strategy to `truncation`.\n",
      "1it [00:02,  2.60s/it]"
     ]
    },
    {
     "metadata": {
      "tags": null
     },
     "name": "stdout",
     "output_type": "stream",
     "text": [
      "Epoch: 0, Loss:  0.708614706993103\n"
     ]
    },
    {
     "metadata": {
      "tags": null
     },
     "name": "stderr",
     "output_type": "stream",
     "text": [
      "103it [00:08, 16.91it/s]"
     ]
    },
    {
     "metadata": {
      "tags": null
     },
     "name": "stdout",
     "output_type": "stream",
     "text": [
      "Epoch: 0, Loss:  0.07339447736740112\n"
     ]
    },
    {
     "metadata": {
      "tags": null
     },
     "name": "stderr",
     "output_type": "stream",
     "text": [
      "203it [00:14, 14.50it/s]"
     ]
    },
    {
     "metadata": {
      "tags": null
     },
     "name": "stdout",
     "output_type": "stream",
     "text": [
      "Epoch: 0, Loss:  0.16091719269752502\n"
     ]
    },
    {
     "metadata": {
      "tags": null
     },
     "name": "stderr",
     "output_type": "stream",
     "text": [
      "303it [00:20, 16.86it/s]"
     ]
    },
    {
     "metadata": {
      "tags": null
     },
     "name": "stdout",
     "output_type": "stream",
     "text": [
      "Epoch: 0, Loss:  0.040859948843717575\n"
     ]
    },
    {
     "metadata": {
      "tags": null
     },
     "name": "stderr",
     "output_type": "stream",
     "text": [
      "403it [00:26, 16.79it/s]"
     ]
    },
    {
     "metadata": {
      "tags": null
     },
     "name": "stdout",
     "output_type": "stream",
     "text": [
      "Epoch: 0, Loss:  0.3023402690887451\n"
     ]
    },
    {
     "metadata": {
      "tags": null
     },
     "name": "stderr",
     "output_type": "stream",
     "text": [
      "503it [00:32, 16.85it/s]"
     ]
    },
    {
     "metadata": {
      "tags": null
     },
     "name": "stdout",
     "output_type": "stream",
     "text": [
      "Epoch: 0, Loss:  0.027189062908291817\n"
     ]
    },
    {
     "metadata": {
      "tags": null
     },
     "name": "stderr",
     "output_type": "stream",
     "text": [
      "603it [00:38, 16.59it/s]"
     ]
    },
    {
     "metadata": {
      "tags": null
     },
     "name": "stdout",
     "output_type": "stream",
     "text": [
      "Epoch: 0, Loss:  0.041090235114097595\n"
     ]
    },
    {
     "metadata": {
      "tags": null
     },
     "name": "stderr",
     "output_type": "stream",
     "text": [
      "703it [00:44, 16.46it/s]"
     ]
    },
    {
     "metadata": {
      "tags": null
     },
     "name": "stdout",
     "output_type": "stream",
     "text": [
      "Epoch: 0, Loss:  0.07337278127670288\n"
     ]
    },
    {
     "metadata": {
      "tags": null
     },
     "name": "stderr",
     "output_type": "stream",
     "text": [
      "803it [00:50, 16.41it/s]"
     ]
    },
    {
     "metadata": {
      "tags": null
     },
     "name": "stdout",
     "output_type": "stream",
     "text": [
      "Epoch: 0, Loss:  0.023505521938204765\n"
     ]
    },
    {
     "metadata": {
      "tags": null
     },
     "name": "stderr",
     "output_type": "stream",
     "text": [
      "903it [00:56, 16.37it/s]"
     ]
    },
    {
     "metadata": {
      "tags": null
     },
     "name": "stdout",
     "output_type": "stream",
     "text": [
      "Epoch: 0, Loss:  0.05591490492224693\n"
     ]
    },
    {
     "metadata": {
      "tags": null
     },
     "name": "stderr",
     "output_type": "stream",
     "text": [
      "1003it [01:03, 16.40it/s]"
     ]
    },
    {
     "metadata": {
      "tags": null
     },
     "name": "stdout",
     "output_type": "stream",
     "text": [
      "Epoch: 0, Loss:  0.016668904572725296\n"
     ]
    },
    {
     "metadata": {
      "tags": null
     },
     "name": "stderr",
     "output_type": "stream",
     "text": [
      "1103it [01:09, 16.36it/s]"
     ]
    },
    {
     "metadata": {
      "tags": null
     },
     "name": "stdout",
     "output_type": "stream",
     "text": [
      "Epoch: 0, Loss:  0.07388168573379517\n"
     ]
    },
    {
     "metadata": {
      "tags": null
     },
     "name": "stderr",
     "output_type": "stream",
     "text": [
      "1203it [01:15, 16.44it/s]"
     ]
    },
    {
     "metadata": {
      "tags": null
     },
     "name": "stdout",
     "output_type": "stream",
     "text": [
      "Epoch: 0, Loss:  0.012515936978161335\n"
     ]
    },
    {
     "metadata": {
      "tags": null
     },
     "name": "stderr",
     "output_type": "stream",
     "text": [
      "1303it [01:21, 16.34it/s]"
     ]
    },
    {
     "metadata": {
      "tags": null
     },
     "name": "stdout",
     "output_type": "stream",
     "text": [
      "Epoch: 0, Loss:  0.009464391507208347\n"
     ]
    },
    {
     "metadata": {
      "tags": null
     },
     "name": "stderr",
     "output_type": "stream",
     "text": [
      "1403it [01:27, 16.39it/s]"
     ]
    },
    {
     "metadata": {
      "tags": null
     },
     "name": "stdout",
     "output_type": "stream",
     "text": [
      "Epoch: 0, Loss:  0.014741380698978901\n"
     ]
    },
    {
     "metadata": {
      "tags": null
     },
     "name": "stderr",
     "output_type": "stream",
     "text": [
      "1503it [01:33, 16.37it/s]"
     ]
    },
    {
     "metadata": {
      "tags": null
     },
     "name": "stdout",
     "output_type": "stream",
     "text": [
      "Epoch: 0, Loss:  0.536194920539856\n"
     ]
    },
    {
     "metadata": {
      "tags": null
     },
     "name": "stderr",
     "output_type": "stream",
     "text": [
      "1603it [01:39, 16.37it/s]"
     ]
    },
    {
     "metadata": {
      "tags": null
     },
     "name": "stdout",
     "output_type": "stream",
     "text": [
      "Epoch: 0, Loss:  0.032204680144786835\n"
     ]
    },
    {
     "metadata": {
      "tags": null
     },
     "name": "stderr",
     "output_type": "stream",
     "text": [
      "1703it [01:45, 16.10it/s]"
     ]
    },
    {
     "metadata": {
      "tags": null
     },
     "name": "stdout",
     "output_type": "stream",
     "text": [
      "Epoch: 0, Loss:  0.010381422936916351\n"
     ]
    },
    {
     "metadata": {
      "tags": null
     },
     "name": "stderr",
     "output_type": "stream",
     "text": [
      "1803it [01:51, 16.39it/s]"
     ]
    },
    {
     "metadata": {
      "tags": null
     },
     "name": "stdout",
     "output_type": "stream",
     "text": [
      "Epoch: 0, Loss:  0.020592032000422478\n"
     ]
    },
    {
     "metadata": {
      "tags": null
     },
     "name": "stderr",
     "output_type": "stream",
     "text": [
      "1903it [01:58, 16.05it/s]"
     ]
    },
    {
     "metadata": {
      "tags": null
     },
     "name": "stdout",
     "output_type": "stream",
     "text": [
      "Epoch: 0, Loss:  0.5996094346046448\n"
     ]
    },
    {
     "metadata": {
      "tags": null
     },
     "name": "stderr",
     "output_type": "stream",
     "text": [
      "2003it [02:04, 16.10it/s]"
     ]
    },
    {
     "metadata": {
      "tags": null
     },
     "name": "stdout",
     "output_type": "stream",
     "text": [
      "Epoch: 0, Loss:  0.19241949915885925\n"
     ]
    },
    {
     "metadata": {
      "tags": null
     },
     "name": "stderr",
     "output_type": "stream",
     "text": [
      "2103it [02:10, 16.06it/s]"
     ]
    },
    {
     "metadata": {
      "tags": null
     },
     "name": "stdout",
     "output_type": "stream",
     "text": [
      "Epoch: 0, Loss:  0.0217310581356287\n"
     ]
    },
    {
     "metadata": {
      "tags": null
     },
     "name": "stderr",
     "output_type": "stream",
     "text": [
      "2203it [02:16, 15.93it/s]"
     ]
    },
    {
     "metadata": {
      "tags": null
     },
     "name": "stdout",
     "output_type": "stream",
     "text": [
      "Epoch: 0, Loss:  0.03601565212011337\n"
     ]
    },
    {
     "metadata": {
      "tags": null
     },
     "name": "stderr",
     "output_type": "stream",
     "text": [
      "2303it [02:22, 15.98it/s]"
     ]
    },
    {
     "metadata": {
      "tags": null
     },
     "name": "stdout",
     "output_type": "stream",
     "text": [
      "Epoch: 0, Loss:  0.16235943138599396\n"
     ]
    },
    {
     "metadata": {
      "tags": null
     },
     "name": "stderr",
     "output_type": "stream",
     "text": [
      "2403it [02:29, 15.99it/s]"
     ]
    },
    {
     "metadata": {
      "tags": null
     },
     "name": "stdout",
     "output_type": "stream",
     "text": [
      "Epoch: 0, Loss:  0.4426800012588501\n"
     ]
    },
    {
     "metadata": {
      "tags": null
     },
     "name": "stderr",
     "output_type": "stream",
     "text": [
      "2503it [02:35, 15.87it/s]"
     ]
    },
    {
     "metadata": {
      "tags": null
     },
     "name": "stdout",
     "output_type": "stream",
     "text": [
      "Epoch: 0, Loss:  0.06354647129774094\n"
     ]
    },
    {
     "metadata": {
      "tags": null
     },
     "name": "stderr",
     "output_type": "stream",
     "text": [
      "2603it [02:41, 15.89it/s]"
     ]
    },
    {
     "metadata": {
      "tags": null
     },
     "name": "stdout",
     "output_type": "stream",
     "text": [
      "Epoch: 0, Loss:  0.1510033905506134\n"
     ]
    },
    {
     "metadata": {
      "tags": null
     },
     "name": "stderr",
     "output_type": "stream",
     "text": [
      "2703it [02:47, 15.65it/s]"
     ]
    },
    {
     "metadata": {
      "tags": null
     },
     "name": "stdout",
     "output_type": "stream",
     "text": [
      "Epoch: 0, Loss:  0.10928726941347122\n"
     ]
    },
    {
     "metadata": {
      "tags": null
     },
     "name": "stderr",
     "output_type": "stream",
     "text": [
      "2803it [02:54, 15.89it/s]"
     ]
    },
    {
     "metadata": {
      "tags": null
     },
     "name": "stdout",
     "output_type": "stream",
     "text": [
      "Epoch: 0, Loss:  0.6334293484687805\n"
     ]
    },
    {
     "metadata": {
      "tags": null
     },
     "name": "stderr",
     "output_type": "stream",
     "text": [
      "2903it [03:00, 15.79it/s]"
     ]
    },
    {
     "metadata": {
      "tags": null
     },
     "name": "stdout",
     "output_type": "stream",
     "text": [
      "Epoch: 0, Loss:  0.1509021520614624\n"
     ]
    },
    {
     "metadata": {
      "tags": null
     },
     "name": "stderr",
     "output_type": "stream",
     "text": [
      "3003it [03:06, 15.75it/s]"
     ]
    },
    {
     "metadata": {
      "tags": null
     },
     "name": "stdout",
     "output_type": "stream",
     "text": [
      "Epoch: 0, Loss:  0.02213088795542717\n"
     ]
    },
    {
     "metadata": {
      "tags": null
     },
     "name": "stderr",
     "output_type": "stream",
     "text": [
      "3103it [03:13, 15.82it/s]"
     ]
    },
    {
     "metadata": {
      "tags": null
     },
     "name": "stdout",
     "output_type": "stream",
     "text": [
      "Epoch: 0, Loss:  0.045220598578453064\n"
     ]
    },
    {
     "metadata": {
      "tags": null
     },
     "name": "stderr",
     "output_type": "stream",
     "text": [
      "3203it [03:19, 15.77it/s]"
     ]
    },
    {
     "metadata": {
      "tags": null
     },
     "name": "stdout",
     "output_type": "stream",
     "text": [
      "Epoch: 0, Loss:  0.07295630872249603\n"
     ]
    },
    {
     "metadata": {
      "tags": null
     },
     "name": "stderr",
     "output_type": "stream",
     "text": [
      "3303it [03:25, 15.77it/s]"
     ]
    },
    {
     "metadata": {
      "tags": null
     },
     "name": "stdout",
     "output_type": "stream",
     "text": [
      "Epoch: 0, Loss:  0.005456583108752966\n"
     ]
    },
    {
     "metadata": {
      "tags": null
     },
     "name": "stderr",
     "output_type": "stream",
     "text": [
      "3403it [03:32, 15.72it/s]"
     ]
    },
    {
     "metadata": {
      "tags": null
     },
     "name": "stdout",
     "output_type": "stream",
     "text": [
      "Epoch: 0, Loss:  0.004288967698812485\n"
     ]
    },
    {
     "metadata": {
      "tags": null
     },
     "name": "stderr",
     "output_type": "stream",
     "text": [
      "3503it [03:38, 15.62it/s]"
     ]
    },
    {
     "metadata": {
      "tags": null
     },
     "name": "stdout",
     "output_type": "stream",
     "text": [
      "Epoch: 0, Loss:  0.3796498477458954\n"
     ]
    },
    {
     "metadata": {
      "tags": null
     },
     "name": "stderr",
     "output_type": "stream",
     "text": [
      "3603it [03:45, 13.95it/s]"
     ]
    },
    {
     "metadata": {
      "tags": null
     },
     "name": "stdout",
     "output_type": "stream",
     "text": [
      "Epoch: 0, Loss:  0.013666044920682907\n"
     ]
    },
    {
     "metadata": {
      "tags": null
     },
     "name": "stderr",
     "output_type": "stream",
     "text": [
      "3703it [03:52, 15.64it/s]"
     ]
    },
    {
     "metadata": {
      "tags": null
     },
     "name": "stdout",
     "output_type": "stream",
     "text": [
      "Epoch: 0, Loss:  0.04205605387687683\n"
     ]
    },
    {
     "metadata": {
      "tags": null
     },
     "name": "stderr",
     "output_type": "stream",
     "text": [
      "3803it [03:58, 15.61it/s]"
     ]
    },
    {
     "metadata": {
      "tags": null
     },
     "name": "stdout",
     "output_type": "stream",
     "text": [
      "Epoch: 0, Loss:  0.014208720996975899\n"
     ]
    },
    {
     "metadata": {
      "tags": null
     },
     "name": "stderr",
     "output_type": "stream",
     "text": [
      "3903it [04:04, 15.56it/s]"
     ]
    },
    {
     "metadata": {
      "tags": null
     },
     "name": "stdout",
     "output_type": "stream",
     "text": [
      "Epoch: 0, Loss:  0.009362852200865746\n"
     ]
    },
    {
     "metadata": {
      "tags": null
     },
     "name": "stderr",
     "output_type": "stream",
     "text": [
      "4003it [04:11, 15.63it/s]"
     ]
    },
    {
     "metadata": {
      "tags": null
     },
     "name": "stdout",
     "output_type": "stream",
     "text": [
      "Epoch: 0, Loss:  0.006689554080367088\n"
     ]
    },
    {
     "metadata": {
      "tags": null
     },
     "name": "stderr",
     "output_type": "stream",
     "text": [
      "4103it [04:17, 15.55it/s]"
     ]
    },
    {
     "metadata": {
      "tags": null
     },
     "name": "stdout",
     "output_type": "stream",
     "text": [
      "Epoch: 0, Loss:  0.1804378479719162\n"
     ]
    },
    {
     "metadata": {
      "tags": null
     },
     "name": "stderr",
     "output_type": "stream",
     "text": [
      "4203it [04:24, 15.57it/s]"
     ]
    },
    {
     "metadata": {
      "tags": null
     },
     "name": "stdout",
     "output_type": "stream",
     "text": [
      "Epoch: 0, Loss:  0.0038499189540743828\n"
     ]
    },
    {
     "metadata": {
      "tags": null
     },
     "name": "stderr",
     "output_type": "stream",
     "text": [
      "4303it [04:30, 15.54it/s]"
     ]
    },
    {
     "metadata": {
      "tags": null
     },
     "name": "stdout",
     "output_type": "stream",
     "text": [
      "Epoch: 0, Loss:  0.18916383385658264\n"
     ]
    },
    {
     "metadata": {
      "tags": null
     },
     "name": "stderr",
     "output_type": "stream",
     "text": [
      "4403it [04:36, 15.49it/s]"
     ]
    },
    {
     "metadata": {
      "tags": null
     },
     "name": "stdout",
     "output_type": "stream",
     "text": [
      "Epoch: 0, Loss:  0.004812086466699839\n"
     ]
    },
    {
     "metadata": {
      "tags": null
     },
     "name": "stderr",
     "output_type": "stream",
     "text": [
      "4503it [04:43, 15.54it/s]"
     ]
    },
    {
     "metadata": {
      "tags": null
     },
     "name": "stdout",
     "output_type": "stream",
     "text": [
      "Epoch: 0, Loss:  0.04429049417376518\n"
     ]
    },
    {
     "metadata": {
      "tags": null
     },
     "name": "stderr",
     "output_type": "stream",
     "text": [
      "4603it [04:49, 15.53it/s]"
     ]
    },
    {
     "metadata": {
      "tags": null
     },
     "name": "stdout",
     "output_type": "stream",
     "text": [
      "Epoch: 0, Loss:  0.01208103634417057\n"
     ]
    },
    {
     "metadata": {
      "tags": null
     },
     "name": "stderr",
     "output_type": "stream",
     "text": [
      "4703it [04:56, 15.49it/s]"
     ]
    },
    {
     "metadata": {
      "tags": null
     },
     "name": "stdout",
     "output_type": "stream",
     "text": [
      "Epoch: 0, Loss:  0.027071280404925346\n"
     ]
    },
    {
     "metadata": {
      "tags": null
     },
     "name": "stderr",
     "output_type": "stream",
     "text": [
      "4803it [05:02, 15.53it/s]"
     ]
    },
    {
     "metadata": {
      "tags": null
     },
     "name": "stdout",
     "output_type": "stream",
     "text": [
      "Epoch: 0, Loss:  0.041788291186094284\n"
     ]
    },
    {
     "metadata": {
      "tags": null
     },
     "name": "stderr",
     "output_type": "stream",
     "text": [
      "4903it [05:09, 15.46it/s]"
     ]
    },
    {
     "metadata": {
      "tags": null
     },
     "name": "stdout",
     "output_type": "stream",
     "text": [
      "Epoch: 0, Loss:  1.1106666326522827\n"
     ]
    },
    {
     "metadata": {
      "tags": null
     },
     "name": "stderr",
     "output_type": "stream",
     "text": [
      "5003it [05:15, 15.54it/s]"
     ]
    },
    {
     "metadata": {
      "tags": null
     },
     "name": "stdout",
     "output_type": "stream",
     "text": [
      "Epoch: 0, Loss:  0.11481526494026184\n"
     ]
    },
    {
     "metadata": {
      "tags": null
     },
     "name": "stderr",
     "output_type": "stream",
     "text": [
      "5103it [05:22, 15.39it/s]"
     ]
    },
    {
     "metadata": {
      "tags": null
     },
     "name": "stdout",
     "output_type": "stream",
     "text": [
      "Epoch: 0, Loss:  0.6314707398414612\n"
     ]
    },
    {
     "metadata": {
      "tags": null
     },
     "name": "stderr",
     "output_type": "stream",
     "text": [
      "5203it [05:28, 15.48it/s]"
     ]
    },
    {
     "metadata": {
      "tags": null
     },
     "name": "stdout",
     "output_type": "stream",
     "text": [
      "Epoch: 0, Loss:  0.022616811096668243\n"
     ]
    },
    {
     "metadata": {
      "tags": null
     },
     "name": "stderr",
     "output_type": "stream",
     "text": [
      "5303it [05:35, 15.45it/s]"
     ]
    },
    {
     "metadata": {
      "tags": null
     },
     "name": "stdout",
     "output_type": "stream",
     "text": [
      "Epoch: 0, Loss:  0.15285946428775787\n"
     ]
    },
    {
     "metadata": {
      "tags": null
     },
     "name": "stderr",
     "output_type": "stream",
     "text": [
      "5403it [05:41, 15.45it/s]"
     ]
    },
    {
     "metadata": {
      "tags": null
     },
     "name": "stdout",
     "output_type": "stream",
     "text": [
      "Epoch: 0, Loss:  0.013452937826514244\n"
     ]
    },
    {
     "metadata": {
      "tags": null
     },
     "name": "stderr",
     "output_type": "stream",
     "text": [
      "5503it [05:47, 15.49it/s]"
     ]
    },
    {
     "metadata": {
      "tags": null
     },
     "name": "stdout",
     "output_type": "stream",
     "text": [
      "Epoch: 0, Loss:  0.056159988045692444\n"
     ]
    },
    {
     "metadata": {
      "tags": null
     },
     "name": "stderr",
     "output_type": "stream",
     "text": [
      "5603it [05:54, 15.47it/s]"
     ]
    },
    {
     "metadata": {
      "tags": null
     },
     "name": "stdout",
     "output_type": "stream",
     "text": [
      "Epoch: 0, Loss:  0.030019301921129227\n"
     ]
    },
    {
     "metadata": {
      "tags": null
     },
     "name": "stderr",
     "output_type": "stream",
     "text": [
      "5703it [06:00, 15.46it/s]"
     ]
    },
    {
     "metadata": {
      "tags": null
     },
     "name": "stdout",
     "output_type": "stream",
     "text": [
      "Epoch: 0, Loss:  1.1533219814300537\n"
     ]
    },
    {
     "metadata": {
      "tags": null
     },
     "name": "stderr",
     "output_type": "stream",
     "text": [
      "5803it [06:07, 15.48it/s]"
     ]
    },
    {
     "metadata": {
      "tags": null
     },
     "name": "stdout",
     "output_type": "stream",
     "text": [
      "Epoch: 0, Loss:  0.1311812549829483\n"
     ]
    },
    {
     "metadata": {
      "tags": null
     },
     "name": "stderr",
     "output_type": "stream",
     "text": [
      "5903it [06:13, 15.50it/s]"
     ]
    },
    {
     "metadata": {
      "tags": null
     },
     "name": "stdout",
     "output_type": "stream",
     "text": [
      "Epoch: 0, Loss:  0.4746828079223633\n"
     ]
    },
    {
     "metadata": {
      "tags": null
     },
     "name": "stderr",
     "output_type": "stream",
     "text": [
      "6003it [06:20, 15.59it/s]"
     ]
    },
    {
     "metadata": {
      "tags": null
     },
     "name": "stdout",
     "output_type": "stream",
     "text": [
      "Epoch: 0, Loss:  0.3336721658706665\n"
     ]
    },
    {
     "metadata": {
      "tags": null
     },
     "name": "stderr",
     "output_type": "stream",
     "text": [
      "6103it [06:26, 15.50it/s]"
     ]
    },
    {
     "metadata": {
      "tags": null
     },
     "name": "stdout",
     "output_type": "stream",
     "text": [
      "Epoch: 0, Loss:  0.06280534714460373\n"
     ]
    },
    {
     "metadata": {
      "tags": null
     },
     "name": "stderr",
     "output_type": "stream",
     "text": [
      "6203it [06:33, 15.51it/s]"
     ]
    },
    {
     "metadata": {
      "tags": null
     },
     "name": "stdout",
     "output_type": "stream",
     "text": [
      "Epoch: 0, Loss:  0.049468688666820526\n"
     ]
    },
    {
     "metadata": {
      "tags": null
     },
     "name": "stderr",
     "output_type": "stream",
     "text": [
      "6303it [06:39, 15.51it/s]"
     ]
    },
    {
     "metadata": {
      "tags": null
     },
     "name": "stdout",
     "output_type": "stream",
     "text": [
      "Epoch: 0, Loss:  0.06557530164718628\n"
     ]
    },
    {
     "metadata": {
      "tags": null
     },
     "name": "stderr",
     "output_type": "stream",
     "text": [
      "6403it [06:45, 15.42it/s]"
     ]
    },
    {
     "metadata": {
      "tags": null
     },
     "name": "stdout",
     "output_type": "stream",
     "text": [
      "Epoch: 0, Loss:  0.011947005987167358\n"
     ]
    },
    {
     "metadata": {
      "tags": null
     },
     "name": "stderr",
     "output_type": "stream",
     "text": [
      "6503it [06:52, 15.50it/s]"
     ]
    },
    {
     "metadata": {
      "tags": null
     },
     "name": "stdout",
     "output_type": "stream",
     "text": [
      "Epoch: 0, Loss:  0.30285903811454773\n"
     ]
    },
    {
     "metadata": {
      "tags": null
     },
     "name": "stderr",
     "output_type": "stream",
     "text": [
      "6603it [06:58, 15.50it/s]"
     ]
    },
    {
     "metadata": {
      "tags": null
     },
     "name": "stdout",
     "output_type": "stream",
     "text": [
      "Epoch: 0, Loss:  0.005772940348833799\n"
     ]
    },
    {
     "metadata": {
      "tags": null
     },
     "name": "stderr",
     "output_type": "stream",
     "text": [
      "6703it [07:05, 15.56it/s]"
     ]
    },
    {
     "metadata": {
      "tags": null
     },
     "name": "stdout",
     "output_type": "stream",
     "text": [
      "Epoch: 0, Loss:  0.0322994589805603\n"
     ]
    },
    {
     "metadata": {
      "tags": null
     },
     "name": "stderr",
     "output_type": "stream",
     "text": [
      "6803it [07:11, 15.53it/s]"
     ]
    },
    {
     "metadata": {
      "tags": null
     },
     "name": "stdout",
     "output_type": "stream",
     "text": [
      "Epoch: 0, Loss:  0.0288446843624115\n"
     ]
    },
    {
     "metadata": {
      "tags": null
     },
     "name": "stderr",
     "output_type": "stream",
     "text": [
      "6903it [07:18, 14.22it/s]"
     ]
    },
    {
     "metadata": {
      "tags": null
     },
     "name": "stdout",
     "output_type": "stream",
     "text": [
      "Epoch: 0, Loss:  0.0663883239030838\n"
     ]
    },
    {
     "metadata": {
      "tags": null
     },
     "name": "stderr",
     "output_type": "stream",
     "text": [
      "7003it [07:24, 15.53it/s]"
     ]
    },
    {
     "metadata": {
      "tags": null
     },
     "name": "stdout",
     "output_type": "stream",
     "text": [
      "Epoch: 0, Loss:  0.12200906127691269\n"
     ]
    },
    {
     "metadata": {
      "tags": null
     },
     "name": "stderr",
     "output_type": "stream",
     "text": [
      "7103it [07:31, 15.43it/s]"
     ]
    },
    {
     "metadata": {
      "tags": null
     },
     "name": "stdout",
     "output_type": "stream",
     "text": [
      "Epoch: 0, Loss:  0.058540526777505875\n"
     ]
    },
    {
     "metadata": {
      "tags": null
     },
     "name": "stderr",
     "output_type": "stream",
     "text": [
      "7203it [07:37, 15.60it/s]"
     ]
    },
    {
     "metadata": {
      "tags": null
     },
     "name": "stdout",
     "output_type": "stream",
     "text": [
      "Epoch: 0, Loss:  0.027297118678689003\n"
     ]
    },
    {
     "metadata": {
      "tags": null
     },
     "name": "stderr",
     "output_type": "stream",
     "text": [
      "7303it [07:44, 15.46it/s]"
     ]
    },
    {
     "metadata": {
      "tags": null
     },
     "name": "stdout",
     "output_type": "stream",
     "text": [
      "Epoch: 0, Loss:  0.018720202147960663\n"
     ]
    },
    {
     "metadata": {
      "tags": null
     },
     "name": "stderr",
     "output_type": "stream",
     "text": [
      "7403it [07:50, 15.43it/s]"
     ]
    },
    {
     "metadata": {
      "tags": null
     },
     "name": "stdout",
     "output_type": "stream",
     "text": [
      "Epoch: 0, Loss:  0.10704538971185684\n"
     ]
    },
    {
     "metadata": {
      "tags": null
     },
     "name": "stderr",
     "output_type": "stream",
     "text": [
      "7503it [07:57, 15.35it/s]"
     ]
    },
    {
     "metadata": {
      "tags": null
     },
     "name": "stdout",
     "output_type": "stream",
     "text": [
      "Epoch: 0, Loss:  0.49875375628471375\n"
     ]
    },
    {
     "metadata": {
      "tags": null
     },
     "name": "stderr",
     "output_type": "stream",
     "text": [
      "7603it [08:03, 15.44it/s]"
     ]
    },
    {
     "metadata": {
      "tags": null
     },
     "name": "stdout",
     "output_type": "stream",
     "text": [
      "Epoch: 0, Loss:  0.03954598680138588\n"
     ]
    },
    {
     "metadata": {
      "tags": null
     },
     "name": "stderr",
     "output_type": "stream",
     "text": [
      "7703it [08:10, 15.52it/s]"
     ]
    },
    {
     "metadata": {
      "tags": null
     },
     "name": "stdout",
     "output_type": "stream",
     "text": [
      "Epoch: 0, Loss:  0.09278944134712219\n"
     ]
    },
    {
     "metadata": {
      "tags": null
     },
     "name": "stderr",
     "output_type": "stream",
     "text": [
      "7803it [08:16, 15.45it/s]"
     ]
    },
    {
     "metadata": {
      "tags": null
     },
     "name": "stdout",
     "output_type": "stream",
     "text": [
      "Epoch: 0, Loss:  0.00907045602798462\n"
     ]
    },
    {
     "metadata": {
      "tags": null
     },
     "name": "stderr",
     "output_type": "stream",
     "text": [
      "7903it [08:22, 15.44it/s]"
     ]
    },
    {
     "metadata": {
      "tags": null
     },
     "name": "stdout",
     "output_type": "stream",
     "text": [
      "Epoch: 0, Loss:  0.016314668580889702\n"
     ]
    },
    {
     "metadata": {
      "tags": null
     },
     "name": "stderr",
     "output_type": "stream",
     "text": [
      "8003it [08:29, 15.45it/s]"
     ]
    },
    {
     "metadata": {
      "tags": null
     },
     "name": "stdout",
     "output_type": "stream",
     "text": [
      "Epoch: 0, Loss:  0.002736605703830719\n"
     ]
    },
    {
     "metadata": {
      "tags": null
     },
     "name": "stderr",
     "output_type": "stream",
     "text": [
      "8103it [08:35, 15.44it/s]"
     ]
    },
    {
     "metadata": {
      "tags": null
     },
     "name": "stdout",
     "output_type": "stream",
     "text": [
      "Epoch: 0, Loss:  0.0027354974299669266\n"
     ]
    },
    {
     "metadata": {
      "tags": null
     },
     "name": "stderr",
     "output_type": "stream",
     "text": [
      "8203it [08:42, 15.49it/s]"
     ]
    },
    {
     "metadata": {
      "tags": null
     },
     "name": "stdout",
     "output_type": "stream",
     "text": [
      "Epoch: 0, Loss:  0.21426738798618317\n"
     ]
    },
    {
     "metadata": {
      "tags": null
     },
     "name": "stderr",
     "output_type": "stream",
     "text": [
      "8303it [08:48, 15.54it/s]"
     ]
    },
    {
     "metadata": {
      "tags": null
     },
     "name": "stdout",
     "output_type": "stream",
     "text": [
      "Epoch: 0, Loss:  0.508994996547699\n"
     ]
    },
    {
     "metadata": {
      "tags": null
     },
     "name": "stderr",
     "output_type": "stream",
     "text": [
      "8403it [08:55, 15.51it/s]"
     ]
    },
    {
     "metadata": {
      "tags": null
     },
     "name": "stdout",
     "output_type": "stream",
     "text": [
      "Epoch: 0, Loss:  0.319464772939682\n"
     ]
    },
    {
     "metadata": {
      "tags": null
     },
     "name": "stderr",
     "output_type": "stream",
     "text": [
      "8503it [09:01, 15.49it/s]"
     ]
    },
    {
     "metadata": {
      "tags": null
     },
     "name": "stdout",
     "output_type": "stream",
     "text": [
      "Epoch: 0, Loss:  0.7573822140693665\n"
     ]
    },
    {
     "metadata": {
      "tags": null
     },
     "name": "stderr",
     "output_type": "stream",
     "text": [
      "8603it [09:08, 15.48it/s]"
     ]
    },
    {
     "metadata": {
      "tags": null
     },
     "name": "stdout",
     "output_type": "stream",
     "text": [
      "Epoch: 0, Loss:  0.08664575219154358\n"
     ]
    },
    {
     "metadata": {
      "tags": null
     },
     "name": "stderr",
     "output_type": "stream",
     "text": [
      "8703it [09:14, 15.42it/s]"
     ]
    },
    {
     "metadata": {
      "tags": null
     },
     "name": "stdout",
     "output_type": "stream",
     "text": [
      "Epoch: 0, Loss:  0.010803228244185448\n"
     ]
    },
    {
     "metadata": {
      "tags": null
     },
     "name": "stderr",
     "output_type": "stream",
     "text": [
      "8803it [09:21, 15.36it/s]"
     ]
    },
    {
     "metadata": {
      "tags": null
     },
     "name": "stdout",
     "output_type": "stream",
     "text": [
      "Epoch: 0, Loss:  0.0066681853495538235\n"
     ]
    },
    {
     "metadata": {
      "tags": null
     },
     "name": "stderr",
     "output_type": "stream",
     "text": [
      "8903it [09:27, 15.44it/s]"
     ]
    },
    {
     "metadata": {
      "tags": null
     },
     "name": "stdout",
     "output_type": "stream",
     "text": [
      "Epoch: 0, Loss:  0.00790733564645052\n"
     ]
    },
    {
     "metadata": {
      "tags": null
     },
     "name": "stderr",
     "output_type": "stream",
     "text": [
      "9003it [09:34, 15.27it/s]"
     ]
    },
    {
     "metadata": {
      "tags": null
     },
     "name": "stdout",
     "output_type": "stream",
     "text": [
      "Epoch: 0, Loss:  0.007762886583805084\n"
     ]
    },
    {
     "metadata": {
      "tags": null
     },
     "name": "stderr",
     "output_type": "stream",
     "text": [
      "9103it [09:40, 15.57it/s]"
     ]
    },
    {
     "metadata": {
      "tags": null
     },
     "name": "stdout",
     "output_type": "stream",
     "text": [
      "Epoch: 0, Loss:  0.0616583414375782\n"
     ]
    },
    {
     "metadata": {
      "tags": null
     },
     "name": "stderr",
     "output_type": "stream",
     "text": [
      "9203it [09:46, 15.48it/s]"
     ]
    },
    {
     "metadata": {
      "tags": null
     },
     "name": "stdout",
     "output_type": "stream",
     "text": [
      "Epoch: 0, Loss:  0.0048004500567913055\n"
     ]
    },
    {
     "metadata": {
      "tags": null
     },
     "name": "stderr",
     "output_type": "stream",
     "text": [
      "9303it [09:53, 15.45it/s]"
     ]
    },
    {
     "metadata": {
      "tags": null
     },
     "name": "stdout",
     "output_type": "stream",
     "text": [
      "Epoch: 0, Loss:  0.6282434463500977\n"
     ]
    },
    {
     "metadata": {
      "tags": null
     },
     "name": "stderr",
     "output_type": "stream",
     "text": [
      "9403it [09:59, 15.39it/s]"
     ]
    },
    {
     "metadata": {
      "tags": null
     },
     "name": "stdout",
     "output_type": "stream",
     "text": [
      "Epoch: 0, Loss:  0.01020783744752407\n"
     ]
    },
    {
     "metadata": {
      "tags": null
     },
     "name": "stderr",
     "output_type": "stream",
     "text": [
      "9503it [10:06, 15.51it/s]"
     ]
    },
    {
     "metadata": {
      "tags": null
     },
     "name": "stdout",
     "output_type": "stream",
     "text": [
      "Epoch: 0, Loss:  0.09357469528913498\n"
     ]
    },
    {
     "metadata": {
      "tags": null
     },
     "name": "stderr",
     "output_type": "stream",
     "text": [
      "9603it [10:12, 15.42it/s]"
     ]
    },
    {
     "metadata": {
      "tags": null
     },
     "name": "stdout",
     "output_type": "stream",
     "text": [
      "Epoch: 0, Loss:  0.006390045862644911\n"
     ]
    },
    {
     "metadata": {
      "tags": null
     },
     "name": "stderr",
     "output_type": "stream",
     "text": [
      "9703it [10:19, 15.47it/s]"
     ]
    },
    {
     "metadata": {
      "tags": null
     },
     "name": "stdout",
     "output_type": "stream",
     "text": [
      "Epoch: 0, Loss:  0.11364200711250305\n"
     ]
    },
    {
     "metadata": {
      "tags": null
     },
     "name": "stderr",
     "output_type": "stream",
     "text": [
      "9803it [10:25, 15.37it/s]"
     ]
    },
    {
     "metadata": {
      "tags": null
     },
     "name": "stdout",
     "output_type": "stream",
     "text": [
      "Epoch: 0, Loss:  0.0738382339477539\n"
     ]
    },
    {
     "metadata": {
      "tags": null
     },
     "name": "stderr",
     "output_type": "stream",
     "text": [
      "9903it [10:32, 15.53it/s]"
     ]
    },
    {
     "metadata": {
      "tags": null
     },
     "name": "stdout",
     "output_type": "stream",
     "text": [
      "Epoch: 0, Loss:  0.017218761146068573\n"
     ]
    },
    {
     "metadata": {
      "tags": null
     },
     "name": "stderr",
     "output_type": "stream",
     "text": [
      "10003it [10:38, 15.55it/s]"
     ]
    },
    {
     "metadata": {
      "tags": null
     },
     "name": "stdout",
     "output_type": "stream",
     "text": [
      "Epoch: 0, Loss:  0.09548863768577576\n"
     ]
    },
    {
     "metadata": {
      "tags": null
     },
     "name": "stderr",
     "output_type": "stream",
     "text": [
      "10103it [10:45, 15.34it/s]"
     ]
    },
    {
     "metadata": {
      "tags": null
     },
     "name": "stdout",
     "output_type": "stream",
     "text": [
      "Epoch: 0, Loss:  0.0016734667588025331\n"
     ]
    },
    {
     "metadata": {
      "tags": null
     },
     "name": "stderr",
     "output_type": "stream",
     "text": [
      "10203it [10:51, 15.51it/s]"
     ]
    },
    {
     "metadata": {
      "tags": null
     },
     "name": "stdout",
     "output_type": "stream",
     "text": [
      "Epoch: 0, Loss:  0.21739231050014496\n"
     ]
    },
    {
     "metadata": {
      "tags": null
     },
     "name": "stderr",
     "output_type": "stream",
     "text": [
      "10303it [10:58, 15.51it/s]"
     ]
    },
    {
     "metadata": {
      "tags": null
     },
     "name": "stdout",
     "output_type": "stream",
     "text": [
      "Epoch: 0, Loss:  0.07074854522943497\n"
     ]
    },
    {
     "metadata": {
      "tags": null
     },
     "name": "stderr",
     "output_type": "stream",
     "text": [
      "10403it [11:04, 15.47it/s]"
     ]
    },
    {
     "metadata": {
      "tags": null
     },
     "name": "stdout",
     "output_type": "stream",
     "text": [
      "Epoch: 0, Loss:  0.012886549346148968\n"
     ]
    },
    {
     "metadata": {
      "tags": null
     },
     "name": "stderr",
     "output_type": "stream",
     "text": [
      "10503it [11:11, 15.46it/s]"
     ]
    },
    {
     "metadata": {
      "tags": null
     },
     "name": "stdout",
     "output_type": "stream",
     "text": [
      "Epoch: 0, Loss:  0.201813206076622\n"
     ]
    },
    {
     "metadata": {
      "tags": null
     },
     "name": "stderr",
     "output_type": "stream",
     "text": [
      "10603it [11:17, 15.46it/s]"
     ]
    },
    {
     "metadata": {
      "tags": null
     },
     "name": "stdout",
     "output_type": "stream",
     "text": [
      "Epoch: 0, Loss:  0.28240588307380676\n"
     ]
    },
    {
     "metadata": {
      "tags": null
     },
     "name": "stderr",
     "output_type": "stream",
     "text": [
      "10703it [11:24, 15.55it/s]"
     ]
    },
    {
     "metadata": {
      "tags": null
     },
     "name": "stdout",
     "output_type": "stream",
     "text": [
      "Epoch: 0, Loss:  0.0036955021787434816\n"
     ]
    },
    {
     "metadata": {
      "tags": null
     },
     "name": "stderr",
     "output_type": "stream",
     "text": [
      "10803it [11:30, 15.51it/s]"
     ]
    },
    {
     "metadata": {
      "tags": null
     },
     "name": "stdout",
     "output_type": "stream",
     "text": [
      "Epoch: 0, Loss:  0.4503255784511566\n"
     ]
    },
    {
     "metadata": {
      "tags": null
     },
     "name": "stderr",
     "output_type": "stream",
     "text": [
      "10903it [11:37, 15.48it/s]"
     ]
    },
    {
     "metadata": {
      "tags": null
     },
     "name": "stdout",
     "output_type": "stream",
     "text": [
      "Epoch: 0, Loss:  0.004451892338693142\n"
     ]
    },
    {
     "metadata": {
      "tags": null
     },
     "name": "stderr",
     "output_type": "stream",
     "text": [
      "11003it [11:43, 15.48it/s]"
     ]
    },
    {
     "metadata": {
      "tags": null
     },
     "name": "stdout",
     "output_type": "stream",
     "text": [
      "Epoch: 0, Loss:  0.011372914537787437\n"
     ]
    },
    {
     "metadata": {
      "tags": null
     },
     "name": "stderr",
     "output_type": "stream",
     "text": [
      "11103it [11:49, 15.52it/s]"
     ]
    },
    {
     "metadata": {
      "tags": null
     },
     "name": "stdout",
     "output_type": "stream",
     "text": [
      "Epoch: 0, Loss:  0.010792911984026432\n"
     ]
    },
    {
     "metadata": {
      "tags": null
     },
     "name": "stderr",
     "output_type": "stream",
     "text": [
      "11203it [11:56, 15.53it/s]"
     ]
    },
    {
     "metadata": {
      "tags": null
     },
     "name": "stdout",
     "output_type": "stream",
     "text": [
      "Epoch: 0, Loss:  0.00419239979237318\n"
     ]
    },
    {
     "metadata": {
      "tags": null
     },
     "name": "stderr",
     "output_type": "stream",
     "text": [
      "11303it [12:02, 15.55it/s]"
     ]
    },
    {
     "metadata": {
      "tags": null
     },
     "name": "stdout",
     "output_type": "stream",
     "text": [
      "Epoch: 0, Loss:  0.010446596890687943\n"
     ]
    },
    {
     "metadata": {
      "tags": null
     },
     "name": "stderr",
     "output_type": "stream",
     "text": [
      "11403it [12:09, 15.47it/s]"
     ]
    },
    {
     "metadata": {
      "tags": null
     },
     "name": "stdout",
     "output_type": "stream",
     "text": [
      "Epoch: 0, Loss:  0.07886801660060883\n"
     ]
    },
    {
     "metadata": {
      "tags": null
     },
     "name": "stderr",
     "output_type": "stream",
     "text": [
      "11503it [12:15, 15.44it/s]"
     ]
    },
    {
     "metadata": {
      "tags": null
     },
     "name": "stdout",
     "output_type": "stream",
     "text": [
      "Epoch: 0, Loss:  0.11631593853235245\n"
     ]
    },
    {
     "metadata": {
      "tags": null
     },
     "name": "stderr",
     "output_type": "stream",
     "text": [
      "11603it [12:22, 15.48it/s]"
     ]
    },
    {
     "metadata": {
      "tags": null
     },
     "name": "stdout",
     "output_type": "stream",
     "text": [
      "Epoch: 0, Loss:  0.0016906514065340161\n"
     ]
    },
    {
     "metadata": {
      "tags": null
     },
     "name": "stderr",
     "output_type": "stream",
     "text": [
      "11703it [12:28, 15.51it/s]"
     ]
    },
    {
     "metadata": {
      "tags": null
     },
     "name": "stdout",
     "output_type": "stream",
     "text": [
      "Epoch: 0, Loss:  0.07592539489269257\n"
     ]
    },
    {
     "metadata": {
      "tags": null
     },
     "name": "stderr",
     "output_type": "stream",
     "text": [
      "11803it [12:35, 15.48it/s]"
     ]
    },
    {
     "metadata": {
      "tags": null
     },
     "name": "stdout",
     "output_type": "stream",
     "text": [
      "Epoch: 0, Loss:  0.1285884529352188\n"
     ]
    },
    {
     "metadata": {
      "tags": null
     },
     "name": "stderr",
     "output_type": "stream",
     "text": [
      "11903it [12:41, 15.52it/s]"
     ]
    },
    {
     "metadata": {
      "tags": null
     },
     "name": "stdout",
     "output_type": "stream",
     "text": [
      "Epoch: 0, Loss:  0.1543560028076172\n"
     ]
    },
    {
     "metadata": {
      "tags": null
     },
     "name": "stderr",
     "output_type": "stream",
     "text": [
      "12003it [12:47, 15.46it/s]"
     ]
    },
    {
     "metadata": {
      "tags": null
     },
     "name": "stdout",
     "output_type": "stream",
     "text": [
      "Epoch: 0, Loss:  0.0037860991433262825\n"
     ]
    },
    {
     "metadata": {
      "tags": null
     },
     "name": "stderr",
     "output_type": "stream",
     "text": [
      "12103it [12:54, 15.54it/s]"
     ]
    },
    {
     "metadata": {
      "tags": null
     },
     "name": "stdout",
     "output_type": "stream",
     "text": [
      "Epoch: 0, Loss:  0.011509270407259464\n"
     ]
    },
    {
     "metadata": {
      "tags": null
     },
     "name": "stderr",
     "output_type": "stream",
     "text": [
      "12203it [13:00, 15.52it/s]"
     ]
    },
    {
     "metadata": {
      "tags": null
     },
     "name": "stdout",
     "output_type": "stream",
     "text": [
      "Epoch: 0, Loss:  0.004030181560665369\n"
     ]
    },
    {
     "metadata": {
      "tags": null
     },
     "name": "stderr",
     "output_type": "stream",
     "text": [
      "12303it [13:07, 15.44it/s]"
     ]
    },
    {
     "metadata": {
      "tags": null
     },
     "name": "stdout",
     "output_type": "stream",
     "text": [
      "Epoch: 0, Loss:  0.11492467671632767\n"
     ]
    },
    {
     "metadata": {
      "tags": null
     },
     "name": "stderr",
     "output_type": "stream",
     "text": [
      "12403it [13:13, 15.45it/s]"
     ]
    },
    {
     "metadata": {
      "tags": null
     },
     "name": "stdout",
     "output_type": "stream",
     "text": [
      "Epoch: 0, Loss:  0.001291482476517558\n"
     ]
    },
    {
     "metadata": {
      "tags": null
     },
     "name": "stderr",
     "output_type": "stream",
     "text": [
      "12503it [13:20, 15.41it/s]"
     ]
    },
    {
     "metadata": {
      "tags": null
     },
     "name": "stdout",
     "output_type": "stream",
     "text": [
      "Epoch: 0, Loss:  0.02267683483660221\n"
     ]
    },
    {
     "metadata": {
      "tags": null
     },
     "name": "stderr",
     "output_type": "stream",
     "text": [
      "12603it [13:26, 15.47it/s]"
     ]
    },
    {
     "metadata": {
      "tags": null
     },
     "name": "stdout",
     "output_type": "stream",
     "text": [
      "Epoch: 0, Loss:  0.018390264362096786\n"
     ]
    },
    {
     "metadata": {
      "tags": null
     },
     "name": "stderr",
     "output_type": "stream",
     "text": [
      "12703it [13:33, 15.54it/s]"
     ]
    },
    {
     "metadata": {
      "tags": null
     },
     "name": "stdout",
     "output_type": "stream",
     "text": [
      "Epoch: 0, Loss:  0.10158215463161469\n"
     ]
    },
    {
     "metadata": {
      "tags": null
     },
     "name": "stderr",
     "output_type": "stream",
     "text": [
      "12803it [13:39, 15.50it/s]"
     ]
    },
    {
     "metadata": {
      "tags": null
     },
     "name": "stdout",
     "output_type": "stream",
     "text": [
      "Epoch: 0, Loss:  0.05039224773645401\n"
     ]
    },
    {
     "metadata": {
      "tags": null
     },
     "name": "stderr",
     "output_type": "stream",
     "text": [
      "12903it [13:46, 15.55it/s]"
     ]
    },
    {
     "metadata": {
      "tags": null
     },
     "name": "stdout",
     "output_type": "stream",
     "text": [
      "Epoch: 0, Loss:  0.30163130164146423\n"
     ]
    },
    {
     "metadata": {
      "tags": null
     },
     "name": "stderr",
     "output_type": "stream",
     "text": [
      "13003it [13:52, 15.54it/s]"
     ]
    },
    {
     "metadata": {
      "tags": null
     },
     "name": "stdout",
     "output_type": "stream",
     "text": [
      "Epoch: 0, Loss:  0.16191348433494568\n"
     ]
    },
    {
     "metadata": {
      "tags": null
     },
     "name": "stderr",
     "output_type": "stream",
     "text": [
      "13103it [13:58, 15.41it/s]"
     ]
    },
    {
     "metadata": {
      "tags": null
     },
     "name": "stdout",
     "output_type": "stream",
     "text": [
      "Epoch: 0, Loss:  0.040864430367946625\n"
     ]
    },
    {
     "metadata": {
      "tags": null
     },
     "name": "stderr",
     "output_type": "stream",
     "text": [
      "13203it [14:05, 15.41it/s]"
     ]
    },
    {
     "metadata": {
      "tags": null
     },
     "name": "stdout",
     "output_type": "stream",
     "text": [
      "Epoch: 0, Loss:  0.013302241452038288\n"
     ]
    },
    {
     "metadata": {
      "tags": null
     },
     "name": "stderr",
     "output_type": "stream",
     "text": [
      "13303it [14:11, 15.56it/s]"
     ]
    },
    {
     "metadata": {
      "tags": null
     },
     "name": "stdout",
     "output_type": "stream",
     "text": [
      "Epoch: 0, Loss:  0.024996668100357056\n"
     ]
    },
    {
     "metadata": {
      "tags": null
     },
     "name": "stderr",
     "output_type": "stream",
     "text": [
      "13403it [14:18, 14.27it/s]"
     ]
    },
    {
     "metadata": {
      "tags": null
     },
     "name": "stdout",
     "output_type": "stream",
     "text": [
      "Epoch: 0, Loss:  0.00160766183398664\n"
     ]
    },
    {
     "metadata": {
      "tags": null
     },
     "name": "stderr",
     "output_type": "stream",
     "text": [
      "13503it [14:24, 15.47it/s]"
     ]
    },
    {
     "metadata": {
      "tags": null
     },
     "name": "stdout",
     "output_type": "stream",
     "text": [
      "Epoch: 0, Loss:  0.040100328624248505\n"
     ]
    },
    {
     "metadata": {
      "tags": null
     },
     "name": "stderr",
     "output_type": "stream",
     "text": [
      "13603it [14:31, 15.49it/s]"
     ]
    },
    {
     "metadata": {
      "tags": null
     },
     "name": "stdout",
     "output_type": "stream",
     "text": [
      "Epoch: 0, Loss:  0.0883701890707016\n"
     ]
    },
    {
     "metadata": {
      "tags": null
     },
     "name": "stderr",
     "output_type": "stream",
     "text": [
      "13703it [14:37, 15.45it/s]"
     ]
    },
    {
     "metadata": {
      "tags": null
     },
     "name": "stdout",
     "output_type": "stream",
     "text": [
      "Epoch: 0, Loss:  0.2550816535949707\n"
     ]
    },
    {
     "metadata": {
      "tags": null
     },
     "name": "stderr",
     "output_type": "stream",
     "text": [
      "13803it [14:44, 15.46it/s]"
     ]
    },
    {
     "metadata": {
      "tags": null
     },
     "name": "stdout",
     "output_type": "stream",
     "text": [
      "Epoch: 0, Loss:  0.21412654221057892\n"
     ]
    },
    {
     "metadata": {
      "tags": null
     },
     "name": "stderr",
     "output_type": "stream",
     "text": [
      "13903it [14:50, 15.49it/s]"
     ]
    },
    {
     "metadata": {
      "tags": null
     },
     "name": "stdout",
     "output_type": "stream",
     "text": [
      "Epoch: 0, Loss:  0.07512272149324417\n"
     ]
    },
    {
     "metadata": {
      "tags": null
     },
     "name": "stderr",
     "output_type": "stream",
     "text": [
      "14003it [14:57, 15.47it/s]"
     ]
    },
    {
     "metadata": {
      "tags": null
     },
     "name": "stdout",
     "output_type": "stream",
     "text": [
      "Epoch: 0, Loss:  0.0354071743786335\n"
     ]
    },
    {
     "metadata": {
      "tags": null
     },
     "name": "stderr",
     "output_type": "stream",
     "text": [
      "14103it [15:03, 15.50it/s]"
     ]
    },
    {
     "metadata": {
      "tags": null
     },
     "name": "stdout",
     "output_type": "stream",
     "text": [
      "Epoch: 0, Loss:  0.20811878144741058\n"
     ]
    },
    {
     "metadata": {
      "tags": null
     },
     "name": "stderr",
     "output_type": "stream",
     "text": [
      "14203it [15:10, 15.50it/s]"
     ]
    },
    {
     "metadata": {
      "tags": null
     },
     "name": "stdout",
     "output_type": "stream",
     "text": [
      "Epoch: 0, Loss:  0.007762422785162926\n"
     ]
    },
    {
     "metadata": {
      "tags": null
     },
     "name": "stderr",
     "output_type": "stream",
     "text": [
      "14303it [15:16, 15.40it/s]"
     ]
    },
    {
     "metadata": {
      "tags": null
     },
     "name": "stdout",
     "output_type": "stream",
     "text": [
      "Epoch: 0, Loss:  0.005263573955744505\n"
     ]
    },
    {
     "metadata": {
      "tags": null
     },
     "name": "stderr",
     "output_type": "stream",
     "text": [
      "14403it [15:23, 15.51it/s]"
     ]
    },
    {
     "metadata": {
      "tags": null
     },
     "name": "stdout",
     "output_type": "stream",
     "text": [
      "Epoch: 0, Loss:  0.06997226923704147\n"
     ]
    },
    {
     "metadata": {
      "tags": null
     },
     "name": "stderr",
     "output_type": "stream",
     "text": [
      "14503it [15:29, 15.52it/s]"
     ]
    },
    {
     "metadata": {
      "tags": null
     },
     "name": "stdout",
     "output_type": "stream",
     "text": [
      "Epoch: 0, Loss:  0.0054558636620640755\n"
     ]
    },
    {
     "metadata": {
      "tags": null
     },
     "name": "stderr",
     "output_type": "stream",
     "text": [
      "14603it [15:35, 15.45it/s]"
     ]
    },
    {
     "metadata": {
      "tags": null
     },
     "name": "stdout",
     "output_type": "stream",
     "text": [
      "Epoch: 0, Loss:  0.08261009305715561\n"
     ]
    },
    {
     "metadata": {
      "tags": null
     },
     "name": "stderr",
     "output_type": "stream",
     "text": [
      "14703it [15:42, 15.48it/s]"
     ]
    },
    {
     "metadata": {
      "tags": null
     },
     "name": "stdout",
     "output_type": "stream",
     "text": [
      "Epoch: 0, Loss:  0.0028646872378885746\n"
     ]
    },
    {
     "metadata": {
      "tags": null
     },
     "name": "stderr",
     "output_type": "stream",
     "text": [
      "14803it [15:48, 15.46it/s]"
     ]
    },
    {
     "metadata": {
      "tags": null
     },
     "name": "stdout",
     "output_type": "stream",
     "text": [
      "Epoch: 0, Loss:  0.005731875076889992\n"
     ]
    },
    {
     "metadata": {
      "tags": null
     },
     "name": "stderr",
     "output_type": "stream",
     "text": [
      "14903it [15:55, 15.45it/s]"
     ]
    },
    {
     "metadata": {
      "tags": null
     },
     "name": "stdout",
     "output_type": "stream",
     "text": [
      "Epoch: 0, Loss:  0.04510121047496796\n"
     ]
    },
    {
     "metadata": {
      "tags": null
     },
     "name": "stderr",
     "output_type": "stream",
     "text": [
      "15003it [16:01, 15.53it/s]"
     ]
    },
    {
     "metadata": {
      "tags": null
     },
     "name": "stdout",
     "output_type": "stream",
     "text": [
      "Epoch: 0, Loss:  0.0868845283985138\n"
     ]
    },
    {
     "metadata": {
      "tags": null
     },
     "name": "stderr",
     "output_type": "stream",
     "text": [
      "15103it [16:08, 15.36it/s]"
     ]
    },
    {
     "metadata": {
      "tags": null
     },
     "name": "stdout",
     "output_type": "stream",
     "text": [
      "Epoch: 0, Loss:  0.03868105635046959\n"
     ]
    },
    {
     "metadata": {
      "tags": null
     },
     "name": "stderr",
     "output_type": "stream",
     "text": [
      "15203it [16:14, 15.37it/s]"
     ]
    },
    {
     "metadata": {
      "tags": null
     },
     "name": "stdout",
     "output_type": "stream",
     "text": [
      "Epoch: 0, Loss:  0.03922152519226074\n"
     ]
    },
    {
     "metadata": {
      "tags": null
     },
     "name": "stderr",
     "output_type": "stream",
     "text": [
      "15303it [16:21, 15.53it/s]"
     ]
    },
    {
     "metadata": {
      "tags": null
     },
     "name": "stdout",
     "output_type": "stream",
     "text": [
      "Epoch: 0, Loss:  0.019982503727078438\n"
     ]
    },
    {
     "metadata": {
      "tags": null
     },
     "name": "stderr",
     "output_type": "stream",
     "text": [
      "15403it [16:27, 15.50it/s]"
     ]
    },
    {
     "metadata": {
      "tags": null
     },
     "name": "stdout",
     "output_type": "stream",
     "text": [
      "Epoch: 0, Loss:  0.3304983973503113\n"
     ]
    },
    {
     "metadata": {
      "tags": null
     },
     "name": "stderr",
     "output_type": "stream",
     "text": [
      "15503it [16:34, 15.54it/s]"
     ]
    },
    {
     "metadata": {
      "tags": null
     },
     "name": "stdout",
     "output_type": "stream",
     "text": [
      "Epoch: 0, Loss:  0.02470134198665619\n"
     ]
    },
    {
     "metadata": {
      "tags": null
     },
     "name": "stderr",
     "output_type": "stream",
     "text": [
      "15603it [16:40, 15.52it/s]"
     ]
    },
    {
     "metadata": {
      "tags": null
     },
     "name": "stdout",
     "output_type": "stream",
     "text": [
      "Epoch: 0, Loss:  0.00994202122092247\n"
     ]
    },
    {
     "metadata": {
      "tags": null
     },
     "name": "stderr",
     "output_type": "stream",
     "text": [
      "15703it [16:47, 15.44it/s]"
     ]
    },
    {
     "metadata": {
      "tags": null
     },
     "name": "stdout",
     "output_type": "stream",
     "text": [
      "Epoch: 0, Loss:  0.08049634844064713\n"
     ]
    },
    {
     "metadata": {
      "tags": null
     },
     "name": "stderr",
     "output_type": "stream",
     "text": [
      "15803it [16:53, 15.50it/s]"
     ]
    },
    {
     "metadata": {
      "tags": null
     },
     "name": "stdout",
     "output_type": "stream",
     "text": [
      "Epoch: 0, Loss:  0.27071937918663025\n"
     ]
    },
    {
     "metadata": {
      "tags": null
     },
     "name": "stderr",
     "output_type": "stream",
     "text": [
      "15903it [16:59, 15.47it/s]"
     ]
    },
    {
     "metadata": {
      "tags": null
     },
     "name": "stdout",
     "output_type": "stream",
     "text": [
      "Epoch: 0, Loss:  0.036535125225782394\n"
     ]
    },
    {
     "metadata": {
      "tags": null
     },
     "name": "stderr",
     "output_type": "stream",
     "text": [
      "16003it [17:06, 15.55it/s]"
     ]
    },
    {
     "metadata": {
      "tags": null
     },
     "name": "stdout",
     "output_type": "stream",
     "text": [
      "Epoch: 0, Loss:  0.006443213205784559\n"
     ]
    },
    {
     "metadata": {
      "tags": null
     },
     "name": "stderr",
     "output_type": "stream",
     "text": [
      "16103it [17:12, 15.48it/s]"
     ]
    },
    {
     "metadata": {
      "tags": null
     },
     "name": "stdout",
     "output_type": "stream",
     "text": [
      "Epoch: 0, Loss:  0.06223078817129135\n"
     ]
    },
    {
     "metadata": {
      "tags": null
     },
     "name": "stderr",
     "output_type": "stream",
     "text": [
      "16203it [17:19, 15.45it/s]"
     ]
    },
    {
     "metadata": {
      "tags": null
     },
     "name": "stdout",
     "output_type": "stream",
     "text": [
      "Epoch: 0, Loss:  0.11103209108114243\n"
     ]
    },
    {
     "metadata": {
      "tags": null
     },
     "name": "stderr",
     "output_type": "stream",
     "text": [
      "16303it [17:25, 15.45it/s]"
     ]
    },
    {
     "metadata": {
      "tags": null
     },
     "name": "stdout",
     "output_type": "stream",
     "text": [
      "Epoch: 0, Loss:  0.0024676539469510317\n"
     ]
    },
    {
     "metadata": {
      "tags": null
     },
     "name": "stderr",
     "output_type": "stream",
     "text": [
      "16403it [17:32, 15.50it/s]"
     ]
    },
    {
     "metadata": {
      "tags": null
     },
     "name": "stdout",
     "output_type": "stream",
     "text": [
      "Epoch: 0, Loss:  0.5386412739753723\n"
     ]
    },
    {
     "metadata": {
      "tags": null
     },
     "name": "stderr",
     "output_type": "stream",
     "text": [
      "16503it [17:38, 15.54it/s]"
     ]
    },
    {
     "metadata": {
      "tags": null
     },
     "name": "stdout",
     "output_type": "stream",
     "text": [
      "Epoch: 0, Loss:  0.01822592318058014\n"
     ]
    },
    {
     "metadata": {
      "tags": null
     },
     "name": "stderr",
     "output_type": "stream",
     "text": [
      "16603it [17:45, 15.56it/s]"
     ]
    },
    {
     "metadata": {
      "tags": null
     },
     "name": "stdout",
     "output_type": "stream",
     "text": [
      "Epoch: 0, Loss:  0.0053110262379050255\n"
     ]
    },
    {
     "metadata": {
      "tags": null
     },
     "name": "stderr",
     "output_type": "stream",
     "text": [
      "16703it [17:51, 15.47it/s]"
     ]
    },
    {
     "metadata": {
      "tags": null
     },
     "name": "stdout",
     "output_type": "stream",
     "text": [
      "Epoch: 0, Loss:  0.20840349793434143\n"
     ]
    },
    {
     "metadata": {
      "tags": null
     },
     "name": "stderr",
     "output_type": "stream",
     "text": [
      "16803it [17:58, 15.44it/s]"
     ]
    },
    {
     "metadata": {
      "tags": null
     },
     "name": "stdout",
     "output_type": "stream",
     "text": [
      "Epoch: 0, Loss:  0.002088907640427351\n"
     ]
    },
    {
     "metadata": {
      "tags": null
     },
     "name": "stderr",
     "output_type": "stream",
     "text": [
      "16903it [18:04, 15.54it/s]"
     ]
    },
    {
     "metadata": {
      "tags": null
     },
     "name": "stdout",
     "output_type": "stream",
     "text": [
      "Epoch: 0, Loss:  0.08157505095005035\n"
     ]
    },
    {
     "metadata": {
      "tags": null
     },
     "name": "stderr",
     "output_type": "stream",
     "text": [
      "17003it [18:11, 15.49it/s]"
     ]
    },
    {
     "metadata": {
      "tags": null
     },
     "name": "stdout",
     "output_type": "stream",
     "text": [
      "Epoch: 0, Loss:  0.8818397521972656\n"
     ]
    },
    {
     "metadata": {
      "tags": null
     },
     "name": "stderr",
     "output_type": "stream",
     "text": [
      "17103it [18:17, 15.45it/s]"
     ]
    },
    {
     "metadata": {
      "tags": null
     },
     "name": "stdout",
     "output_type": "stream",
     "text": [
      "Epoch: 0, Loss:  0.07723528891801834\n"
     ]
    },
    {
     "metadata": {
      "tags": null
     },
     "name": "stderr",
     "output_type": "stream",
     "text": [
      "17203it [18:23, 15.48it/s]"
     ]
    },
    {
     "metadata": {
      "tags": null
     },
     "name": "stdout",
     "output_type": "stream",
     "text": [
      "Epoch: 0, Loss:  0.045956261456012726\n"
     ]
    },
    {
     "metadata": {
      "tags": null
     },
     "name": "stderr",
     "output_type": "stream",
     "text": [
      "17303it [18:30, 15.50it/s]"
     ]
    },
    {
     "metadata": {
      "tags": null
     },
     "name": "stdout",
     "output_type": "stream",
     "text": [
      "Epoch: 0, Loss:  0.05252334848046303\n"
     ]
    },
    {
     "metadata": {
      "tags": null
     },
     "name": "stderr",
     "output_type": "stream",
     "text": [
      "17403it [18:36, 15.50it/s]"
     ]
    },
    {
     "metadata": {
      "tags": null
     },
     "name": "stdout",
     "output_type": "stream",
     "text": [
      "Epoch: 0, Loss:  0.034340064972639084\n"
     ]
    },
    {
     "metadata": {
      "tags": null
     },
     "name": "stderr",
     "output_type": "stream",
     "text": [
      "17503it [18:43, 15.49it/s]"
     ]
    },
    {
     "metadata": {
      "tags": null
     },
     "name": "stdout",
     "output_type": "stream",
     "text": [
      "Epoch: 0, Loss:  0.0017303172498941422\n"
     ]
    },
    {
     "metadata": {
      "tags": null
     },
     "name": "stderr",
     "output_type": "stream",
     "text": [
      "17603it [18:49, 15.49it/s]"
     ]
    },
    {
     "metadata": {
      "tags": null
     },
     "name": "stdout",
     "output_type": "stream",
     "text": [
      "Epoch: 0, Loss:  0.049179237335920334\n"
     ]
    },
    {
     "metadata": {
      "tags": null
     },
     "name": "stderr",
     "output_type": "stream",
     "text": [
      "17703it [18:56, 15.53it/s]"
     ]
    },
    {
     "metadata": {
      "tags": null
     },
     "name": "stdout",
     "output_type": "stream",
     "text": [
      "Epoch: 0, Loss:  0.002950793132185936\n"
     ]
    },
    {
     "metadata": {
      "tags": null
     },
     "name": "stderr",
     "output_type": "stream",
     "text": [
      "17803it [19:02, 15.44it/s]"
     ]
    },
    {
     "metadata": {
      "tags": null
     },
     "name": "stdout",
     "output_type": "stream",
     "text": [
      "Epoch: 0, Loss:  0.00917917862534523\n"
     ]
    },
    {
     "metadata": {
      "tags": null
     },
     "name": "stderr",
     "output_type": "stream",
     "text": [
      "17903it [19:09, 15.59it/s]"
     ]
    },
    {
     "metadata": {
      "tags": null
     },
     "name": "stdout",
     "output_type": "stream",
     "text": [
      "Epoch: 0, Loss:  0.05093604326248169\n"
     ]
    },
    {
     "metadata": {
      "tags": null
     },
     "name": "stderr",
     "output_type": "stream",
     "text": [
      "18003it [19:15, 15.54it/s]"
     ]
    },
    {
     "metadata": {
      "tags": null
     },
     "name": "stdout",
     "output_type": "stream",
     "text": [
      "Epoch: 0, Loss:  0.008935405872762203\n"
     ]
    },
    {
     "metadata": {
      "tags": null
     },
     "name": "stderr",
     "output_type": "stream",
     "text": [
      "18103it [19:21, 15.45it/s]"
     ]
    },
    {
     "metadata": {
      "tags": null
     },
     "name": "stdout",
     "output_type": "stream",
     "text": [
      "Epoch: 0, Loss:  0.07044124603271484\n"
     ]
    },
    {
     "metadata": {
      "tags": null
     },
     "name": "stderr",
     "output_type": "stream",
     "text": [
      "18203it [19:28, 15.50it/s]"
     ]
    },
    {
     "metadata": {
      "tags": null
     },
     "name": "stdout",
     "output_type": "stream",
     "text": [
      "Epoch: 0, Loss:  0.03163931146264076\n"
     ]
    },
    {
     "metadata": {
      "tags": null
     },
     "name": "stderr",
     "output_type": "stream",
     "text": [
      "18303it [19:34, 15.49it/s]"
     ]
    },
    {
     "metadata": {
      "tags": null
     },
     "name": "stdout",
     "output_type": "stream",
     "text": [
      "Epoch: 0, Loss:  0.05508448928594589\n"
     ]
    },
    {
     "metadata": {
      "tags": null
     },
     "name": "stderr",
     "output_type": "stream",
     "text": [
      "18403it [19:41, 15.50it/s]"
     ]
    },
    {
     "metadata": {
      "tags": null
     },
     "name": "stdout",
     "output_type": "stream",
     "text": [
      "Epoch: 0, Loss:  0.007887441664934158\n"
     ]
    },
    {
     "metadata": {
      "tags": null
     },
     "name": "stderr",
     "output_type": "stream",
     "text": [
      "18503it [19:47, 15.48it/s]"
     ]
    },
    {
     "metadata": {
      "tags": null
     },
     "name": "stdout",
     "output_type": "stream",
     "text": [
      "Epoch: 0, Loss:  0.002128077670931816\n"
     ]
    },
    {
     "metadata": {
      "tags": null
     },
     "name": "stderr",
     "output_type": "stream",
     "text": [
      "18603it [19:54, 15.51it/s]"
     ]
    },
    {
     "metadata": {
      "tags": null
     },
     "name": "stdout",
     "output_type": "stream",
     "text": [
      "Epoch: 0, Loss:  0.09530875831842422\n"
     ]
    },
    {
     "metadata": {
      "tags": null
     },
     "name": "stderr",
     "output_type": "stream",
     "text": [
      "18703it [20:00, 15.47it/s]"
     ]
    },
    {
     "metadata": {
      "tags": null
     },
     "name": "stdout",
     "output_type": "stream",
     "text": [
      "Epoch: 0, Loss:  0.0011463086120784283\n"
     ]
    },
    {
     "metadata": {
      "tags": null
     },
     "name": "stderr",
     "output_type": "stream",
     "text": [
      "18803it [20:07, 15.51it/s]"
     ]
    },
    {
     "metadata": {
      "tags": null
     },
     "name": "stdout",
     "output_type": "stream",
     "text": [
      "Epoch: 0, Loss:  0.09870588034391403\n"
     ]
    },
    {
     "metadata": {
      "tags": null
     },
     "name": "stderr",
     "output_type": "stream",
     "text": [
      "18903it [20:13, 15.48it/s]"
     ]
    },
    {
     "metadata": {
      "tags": null
     },
     "name": "stdout",
     "output_type": "stream",
     "text": [
      "Epoch: 0, Loss:  0.03473127633333206\n"
     ]
    },
    {
     "metadata": {
      "tags": null
     },
     "name": "stderr",
     "output_type": "stream",
     "text": [
      "19003it [20:19, 15.45it/s]"
     ]
    },
    {
     "metadata": {
      "tags": null
     },
     "name": "stdout",
     "output_type": "stream",
     "text": [
      "Epoch: 0, Loss:  0.008093958720564842\n"
     ]
    },
    {
     "metadata": {
      "tags": null
     },
     "name": "stderr",
     "output_type": "stream",
     "text": [
      "19103it [20:26, 15.43it/s]"
     ]
    },
    {
     "metadata": {
      "tags": null
     },
     "name": "stdout",
     "output_type": "stream",
     "text": [
      "Epoch: 0, Loss:  0.0016876859590411186\n"
     ]
    },
    {
     "metadata": {
      "tags": null
     },
     "name": "stderr",
     "output_type": "stream",
     "text": [
      "19203it [20:32, 15.52it/s]"
     ]
    },
    {
     "metadata": {
      "tags": null
     },
     "name": "stdout",
     "output_type": "stream",
     "text": [
      "Epoch: 0, Loss:  0.9682860374450684\n"
     ]
    },
    {
     "name": "stderr",
     "output_type": "stream",
     "text": [
      "19303it [20:39, 15.41it/s]"
     ]
    },
    {
     "name": "stdout",
     "output_type": "stream",
     "text": [
      "Epoch: 0, Loss:  0.05061732232570648\n"
     ]
    },
    {
     "name": "stderr",
     "output_type": "stream",
     "text": [
      "19403it [20:45, 15.52it/s]"
     ]
    },
    {
     "name": "stdout",
     "output_type": "stream",
     "text": [
      "Epoch: 0, Loss:  0.04300067201256752\n"
     ]
    },
    {
     "name": "stderr",
     "output_type": "stream",
     "text": [
      "19503it [20:52, 15.51it/s]"
     ]
    },
    {
     "name": "stdout",
     "output_type": "stream",
     "text": [
      "Epoch: 0, Loss:  0.0010796247515827417\n"
     ]
    },
    {
     "name": "stderr",
     "output_type": "stream",
     "text": [
      "19603it [20:58, 15.48it/s]"
     ]
    },
    {
     "name": "stdout",
     "output_type": "stream",
     "text": [
      "Epoch: 0, Loss:  0.07836966216564178\n"
     ]
    },
    {
     "name": "stderr",
     "output_type": "stream",
     "text": [
      "19703it [21:05, 15.50it/s]"
     ]
    },
    {
     "name": "stdout",
     "output_type": "stream",
     "text": [
      "Epoch: 0, Loss:  0.0008893297053873539\n"
     ]
    },
    {
     "name": "stderr",
     "output_type": "stream",
     "text": [
      "19803it [21:11, 15.42it/s]"
     ]
    },
    {
     "name": "stdout",
     "output_type": "stream",
     "text": [
      "Epoch: 0, Loss:  0.0006268130382522941\n"
     ]
    },
    {
     "name": "stderr",
     "output_type": "stream",
     "text": [
      "19903it [21:18, 15.25it/s]"
     ]
    },
    {
     "name": "stdout",
     "output_type": "stream",
     "text": [
      "Epoch: 0, Loss:  0.11924413591623306\n"
     ]
    },
    {
     "name": "stderr",
     "output_type": "stream",
     "text": [
      "20003it [21:24, 15.45it/s]"
     ]
    },
    {
     "name": "stdout",
     "output_type": "stream",
     "text": [
      "Epoch: 0, Loss:  0.22824107110500336\n"
     ]
    },
    {
     "name": "stderr",
     "output_type": "stream",
     "text": [
      "20103it [21:31, 15.45it/s]"
     ]
    },
    {
     "name": "stdout",
     "output_type": "stream",
     "text": [
      "Epoch: 0, Loss:  0.39562317728996277\n"
     ]
    },
    {
     "name": "stderr",
     "output_type": "stream",
     "text": [
      "20203it [21:37, 15.41it/s]"
     ]
    },
    {
     "name": "stdout",
     "output_type": "stream",
     "text": [
      "Epoch: 0, Loss:  0.8427313566207886\n"
     ]
    },
    {
     "name": "stderr",
     "output_type": "stream",
     "text": [
      "20303it [21:44, 15.41it/s]"
     ]
    },
    {
     "name": "stdout",
     "output_type": "stream",
     "text": [
      "Epoch: 0, Loss:  0.008060457184910774\n"
     ]
    },
    {
     "name": "stderr",
     "output_type": "stream",
     "text": [
      "20403it [21:50, 15.41it/s]"
     ]
    },
    {
     "name": "stdout",
     "output_type": "stream",
     "text": [
      "Epoch: 0, Loss:  0.010488919913768768\n"
     ]
    },
    {
     "name": "stderr",
     "output_type": "stream",
     "text": [
      "20503it [21:57, 15.50it/s]"
     ]
    },
    {
     "name": "stdout",
     "output_type": "stream",
     "text": [
      "Epoch: 0, Loss:  0.00273174699395895\n"
     ]
    },
    {
     "name": "stderr",
     "output_type": "stream",
     "text": [
      "20603it [22:03, 15.53it/s]"
     ]
    },
    {
     "name": "stdout",
     "output_type": "stream",
     "text": [
      "Epoch: 0, Loss:  0.03781227022409439\n"
     ]
    },
    {
     "name": "stderr",
     "output_type": "stream",
     "text": [
      "20703it [22:09, 15.45it/s]"
     ]
    },
    {
     "name": "stdout",
     "output_type": "stream",
     "text": [
      "Epoch: 0, Loss:  0.005722980480641127\n"
     ]
    },
    {
     "name": "stderr",
     "output_type": "stream",
     "text": [
      "20803it [22:16, 15.49it/s]"
     ]
    },
    {
     "name": "stdout",
     "output_type": "stream",
     "text": [
      "Epoch: 0, Loss:  0.00276675121858716\n"
     ]
    },
    {
     "name": "stderr",
     "output_type": "stream",
     "text": [
      "20903it [22:22, 15.46it/s]"
     ]
    },
    {
     "name": "stdout",
     "output_type": "stream",
     "text": [
      "Epoch: 0, Loss:  0.13207989931106567\n"
     ]
    },
    {
     "name": "stderr",
     "output_type": "stream",
     "text": [
      "21003it [22:29, 15.45it/s]"
     ]
    },
    {
     "name": "stdout",
     "output_type": "stream",
     "text": [
      "Epoch: 0, Loss:  0.003470777999609709\n"
     ]
    },
    {
     "name": "stderr",
     "output_type": "stream",
     "text": [
      "21103it [22:35, 15.44it/s]"
     ]
    },
    {
     "name": "stdout",
     "output_type": "stream",
     "text": [
      "Epoch: 0, Loss:  0.002170313149690628\n"
     ]
    },
    {
     "name": "stderr",
     "output_type": "stream",
     "text": [
      "21203it [22:42, 15.42it/s]"
     ]
    },
    {
     "name": "stdout",
     "output_type": "stream",
     "text": [
      "Epoch: 0, Loss:  0.022554121911525726\n"
     ]
    },
    {
     "name": "stderr",
     "output_type": "stream",
     "text": [
      "21303it [22:48, 15.47it/s]"
     ]
    },
    {
     "name": "stdout",
     "output_type": "stream",
     "text": [
      "Epoch: 0, Loss:  0.003968678880482912\n"
     ]
    },
    {
     "name": "stderr",
     "output_type": "stream",
     "text": [
      "21403it [22:55, 15.43it/s]"
     ]
    },
    {
     "name": "stdout",
     "output_type": "stream",
     "text": [
      "Epoch: 0, Loss:  0.0054091354832053185\n"
     ]
    },
    {
     "name": "stderr",
     "output_type": "stream",
     "text": [
      "21503it [23:01, 15.42it/s]"
     ]
    },
    {
     "name": "stdout",
     "output_type": "stream",
     "text": [
      "Epoch: 0, Loss:  0.0008958267280831933\n"
     ]
    },
    {
     "name": "stderr",
     "output_type": "stream",
     "text": [
      "21603it [23:08, 15.40it/s]"
     ]
    },
    {
     "name": "stdout",
     "output_type": "stream",
     "text": [
      "Epoch: 0, Loss:  0.004503530450165272\n"
     ]
    },
    {
     "name": "stderr",
     "output_type": "stream",
     "text": [
      "21703it [23:14, 15.45it/s]"
     ]
    },
    {
     "name": "stdout",
     "output_type": "stream",
     "text": [
      "Epoch: 0, Loss:  0.053187910467386246\n"
     ]
    },
    {
     "name": "stderr",
     "output_type": "stream",
     "text": [
      "21803it [23:21, 15.54it/s]"
     ]
    },
    {
     "name": "stdout",
     "output_type": "stream",
     "text": [
      "Epoch: 0, Loss:  0.027637656778097153\n"
     ]
    },
    {
     "name": "stderr",
     "output_type": "stream",
     "text": [
      "21903it [23:27, 15.43it/s]"
     ]
    },
    {
     "name": "stdout",
     "output_type": "stream",
     "text": [
      "Epoch: 0, Loss:  0.001124777365475893\n"
     ]
    },
    {
     "name": "stderr",
     "output_type": "stream",
     "text": [
      "22003it [23:33, 15.49it/s]"
     ]
    },
    {
     "name": "stdout",
     "output_type": "stream",
     "text": [
      "Epoch: 0, Loss:  0.0018556469585746527\n"
     ]
    },
    {
     "name": "stderr",
     "output_type": "stream",
     "text": [
      "22103it [23:40, 15.46it/s]"
     ]
    },
    {
     "name": "stdout",
     "output_type": "stream",
     "text": [
      "Epoch: 0, Loss:  0.2678171992301941\n"
     ]
    },
    {
     "name": "stderr",
     "output_type": "stream",
     "text": [
      "22203it [23:46, 15.44it/s]"
     ]
    },
    {
     "name": "stdout",
     "output_type": "stream",
     "text": [
      "Epoch: 0, Loss:  0.016248434782028198\n"
     ]
    },
    {
     "name": "stderr",
     "output_type": "stream",
     "text": [
      "22303it [23:53, 15.51it/s]"
     ]
    },
    {
     "name": "stdout",
     "output_type": "stream",
     "text": [
      "Epoch: 0, Loss:  0.08912559598684311\n"
     ]
    },
    {
     "name": "stderr",
     "output_type": "stream",
     "text": [
      "22403it [23:59, 15.54it/s]"
     ]
    },
    {
     "name": "stdout",
     "output_type": "stream",
     "text": [
      "Epoch: 0, Loss:  0.09513703733682632\n"
     ]
    },
    {
     "name": "stderr",
     "output_type": "stream",
     "text": [
      "22503it [24:06, 15.51it/s]"
     ]
    },
    {
     "name": "stdout",
     "output_type": "stream",
     "text": [
      "Epoch: 0, Loss:  0.0029626647010445595\n"
     ]
    },
    {
     "name": "stderr",
     "output_type": "stream",
     "text": [
      "22603it [24:12, 15.49it/s]"
     ]
    },
    {
     "name": "stdout",
     "output_type": "stream",
     "text": [
      "Epoch: 0, Loss:  0.07315786927938461\n"
     ]
    },
    {
     "name": "stderr",
     "output_type": "stream",
     "text": [
      "22703it [24:19, 15.50it/s]"
     ]
    },
    {
     "name": "stdout",
     "output_type": "stream",
     "text": [
      "Epoch: 0, Loss:  0.11784356087446213\n"
     ]
    },
    {
     "name": "stderr",
     "output_type": "stream",
     "text": [
      "22803it [24:25, 15.43it/s]"
     ]
    },
    {
     "name": "stdout",
     "output_type": "stream",
     "text": [
      "Epoch: 0, Loss:  0.328009694814682\n"
     ]
    },
    {
     "name": "stderr",
     "output_type": "stream",
     "text": [
      "22903it [24:32, 15.48it/s]"
     ]
    },
    {
     "name": "stdout",
     "output_type": "stream",
     "text": [
      "Epoch: 0, Loss:  0.004294414073228836\n"
     ]
    },
    {
     "name": "stderr",
     "output_type": "stream",
     "text": [
      "23003it [24:38, 15.49it/s]"
     ]
    },
    {
     "name": "stdout",
     "output_type": "stream",
     "text": [
      "Epoch: 0, Loss:  0.09460911899805069\n"
     ]
    },
    {
     "name": "stderr",
     "output_type": "stream",
     "text": [
      "23103it [24:45, 15.23it/s]"
     ]
    },
    {
     "name": "stdout",
     "output_type": "stream",
     "text": [
      "Epoch: 0, Loss:  1.5749919414520264\n"
     ]
    },
    {
     "name": "stderr",
     "output_type": "stream",
     "text": [
      "23203it [24:51, 15.52it/s]"
     ]
    },
    {
     "name": "stdout",
     "output_type": "stream",
     "text": [
      "Epoch: 0, Loss:  0.06541396677494049\n"
     ]
    },
    {
     "name": "stderr",
     "output_type": "stream",
     "text": [
      "23303it [24:58, 15.47it/s]"
     ]
    },
    {
     "name": "stdout",
     "output_type": "stream",
     "text": [
      "Epoch: 0, Loss:  0.007015744224190712\n"
     ]
    },
    {
     "name": "stderr",
     "output_type": "stream",
     "text": [
      "23403it [25:04, 15.43it/s]"
     ]
    },
    {
     "name": "stdout",
     "output_type": "stream",
     "text": [
      "Epoch: 0, Loss:  0.3284763693809509\n"
     ]
    },
    {
     "name": "stderr",
     "output_type": "stream",
     "text": [
      "23503it [25:10, 15.53it/s]"
     ]
    },
    {
     "name": "stdout",
     "output_type": "stream",
     "text": [
      "Epoch: 0, Loss:  0.1517927199602127\n"
     ]
    },
    {
     "name": "stderr",
     "output_type": "stream",
     "text": [
      "23603it [25:17, 15.56it/s]"
     ]
    },
    {
     "name": "stdout",
     "output_type": "stream",
     "text": [
      "Epoch: 0, Loss:  0.05782003328204155\n"
     ]
    },
    {
     "name": "stderr",
     "output_type": "stream",
     "text": [
      "23703it [25:23, 15.43it/s]"
     ]
    },
    {
     "name": "stdout",
     "output_type": "stream",
     "text": [
      "Epoch: 0, Loss:  0.0015960452146828175\n"
     ]
    },
    {
     "name": "stderr",
     "output_type": "stream",
     "text": [
      "23803it [25:30, 15.50it/s]"
     ]
    },
    {
     "name": "stdout",
     "output_type": "stream",
     "text": [
      "Epoch: 0, Loss:  0.011988464742898941\n"
     ]
    },
    {
     "name": "stderr",
     "output_type": "stream",
     "text": [
      "23903it [25:36, 15.48it/s]"
     ]
    },
    {
     "name": "stdout",
     "output_type": "stream",
     "text": [
      "Epoch: 0, Loss:  0.005150891840457916\n"
     ]
    },
    {
     "name": "stderr",
     "output_type": "stream",
     "text": [
      "24003it [25:43, 15.54it/s]"
     ]
    },
    {
     "name": "stdout",
     "output_type": "stream",
     "text": [
      "Epoch: 0, Loss:  0.3353395462036133\n"
     ]
    },
    {
     "name": "stderr",
     "output_type": "stream",
     "text": [
      "24103it [25:49, 15.48it/s]"
     ]
    },
    {
     "name": "stdout",
     "output_type": "stream",
     "text": [
      "Epoch: 0, Loss:  0.05674183368682861\n"
     ]
    },
    {
     "name": "stderr",
     "output_type": "stream",
     "text": [
      "24203it [25:56, 15.51it/s]"
     ]
    },
    {
     "name": "stdout",
     "output_type": "stream",
     "text": [
      "Epoch: 0, Loss:  0.15708374977111816\n"
     ]
    },
    {
     "name": "stderr",
     "output_type": "stream",
     "text": [
      "24303it [26:02, 15.50it/s]"
     ]
    },
    {
     "name": "stdout",
     "output_type": "stream",
     "text": [
      "Epoch: 0, Loss:  0.0015347402077168226\n"
     ]
    },
    {
     "name": "stderr",
     "output_type": "stream",
     "text": [
      "24403it [26:09, 15.50it/s]"
     ]
    },
    {
     "name": "stdout",
     "output_type": "stream",
     "text": [
      "Epoch: 0, Loss:  0.31357091665267944\n"
     ]
    },
    {
     "name": "stderr",
     "output_type": "stream",
     "text": [
      "24503it [26:15, 15.53it/s]"
     ]
    },
    {
     "name": "stdout",
     "output_type": "stream",
     "text": [
      "Epoch: 0, Loss:  0.19237537682056427\n"
     ]
    },
    {
     "name": "stderr",
     "output_type": "stream",
     "text": [
      "24603it [26:21, 15.39it/s]"
     ]
    },
    {
     "name": "stdout",
     "output_type": "stream",
     "text": [
      "Epoch: 0, Loss:  0.48199233412742615\n"
     ]
    },
    {
     "name": "stderr",
     "output_type": "stream",
     "text": [
      "24703it [26:28, 15.47it/s]"
     ]
    },
    {
     "name": "stdout",
     "output_type": "stream",
     "text": [
      "Epoch: 0, Loss:  0.032821301370859146\n"
     ]
    },
    {
     "name": "stderr",
     "output_type": "stream",
     "text": [
      "24803it [26:34, 15.50it/s]"
     ]
    },
    {
     "name": "stdout",
     "output_type": "stream",
     "text": [
      "Epoch: 0, Loss:  0.019117414951324463\n"
     ]
    },
    {
     "name": "stderr",
     "output_type": "stream",
     "text": [
      "24903it [26:41, 15.52it/s]"
     ]
    },
    {
     "name": "stdout",
     "output_type": "stream",
     "text": [
      "Epoch: 0, Loss:  0.1207270696759224\n"
     ]
    },
    {
     "name": "stderr",
     "output_type": "stream",
     "text": [
      "25003it [26:47, 15.55it/s]"
     ]
    },
    {
     "name": "stdout",
     "output_type": "stream",
     "text": [
      "Epoch: 0, Loss:  0.0212759580463171\n"
     ]
    },
    {
     "name": "stderr",
     "output_type": "stream",
     "text": [
      "25103it [26:54, 15.50it/s]"
     ]
    },
    {
     "name": "stdout",
     "output_type": "stream",
     "text": [
      "Epoch: 0, Loss:  0.0013955978211015463\n"
     ]
    },
    {
     "name": "stderr",
     "output_type": "stream",
     "text": [
      "25203it [27:00, 15.48it/s]"
     ]
    },
    {
     "name": "stdout",
     "output_type": "stream",
     "text": [
      "Epoch: 0, Loss:  0.004010701086372137\n"
     ]
    },
    {
     "name": "stderr",
     "output_type": "stream",
     "text": [
      "25303it [27:07, 15.53it/s]"
     ]
    },
    {
     "name": "stdout",
     "output_type": "stream",
     "text": [
      "Epoch: 0, Loss:  0.023263443261384964\n"
     ]
    },
    {
     "name": "stderr",
     "output_type": "stream",
     "text": [
      "25403it [27:13, 15.47it/s]"
     ]
    },
    {
     "name": "stdout",
     "output_type": "stream",
     "text": [
      "Epoch: 0, Loss:  0.008082589134573936\n"
     ]
    },
    {
     "name": "stderr",
     "output_type": "stream",
     "text": [
      "25503it [27:20, 15.43it/s]"
     ]
    },
    {
     "name": "stdout",
     "output_type": "stream",
     "text": [
      "Epoch: 0, Loss:  0.002560880733653903\n"
     ]
    },
    {
     "name": "stderr",
     "output_type": "stream",
     "text": [
      "25603it [27:26, 15.49it/s]"
     ]
    },
    {
     "name": "stdout",
     "output_type": "stream",
     "text": [
      "Epoch: 0, Loss:  0.4858330190181732\n"
     ]
    },
    {
     "name": "stderr",
     "output_type": "stream",
     "text": [
      "25703it [27:32, 15.51it/s]"
     ]
    },
    {
     "name": "stdout",
     "output_type": "stream",
     "text": [
      "Epoch: 0, Loss:  0.27100735902786255\n"
     ]
    },
    {
     "name": "stderr",
     "output_type": "stream",
     "text": [
      "25803it [27:39, 15.52it/s]"
     ]
    },
    {
     "name": "stdout",
     "output_type": "stream",
     "text": [
      "Epoch: 0, Loss:  0.2882705628871918\n"
     ]
    },
    {
     "name": "stderr",
     "output_type": "stream",
     "text": [
      "25903it [27:45, 15.55it/s]"
     ]
    },
    {
     "name": "stdout",
     "output_type": "stream",
     "text": [
      "Epoch: 0, Loss:  0.011865576729178429\n"
     ]
    },
    {
     "name": "stderr",
     "output_type": "stream",
     "text": [
      "26003it [27:52, 15.55it/s]"
     ]
    },
    {
     "name": "stdout",
     "output_type": "stream",
     "text": [
      "Epoch: 0, Loss:  0.001122513902373612\n"
     ]
    },
    {
     "name": "stderr",
     "output_type": "stream",
     "text": [
      "26103it [27:58, 15.45it/s]"
     ]
    },
    {
     "name": "stdout",
     "output_type": "stream",
     "text": [
      "Epoch: 0, Loss:  0.029100798070430756\n"
     ]
    },
    {
     "name": "stderr",
     "output_type": "stream",
     "text": [
      "26203it [28:05, 15.53it/s]"
     ]
    },
    {
     "name": "stdout",
     "output_type": "stream",
     "text": [
      "Epoch: 0, Loss:  0.0028748740442097187\n"
     ]
    },
    {
     "name": "stderr",
     "output_type": "stream",
     "text": [
      "26303it [28:11, 14.86it/s]"
     ]
    },
    {
     "name": "stdout",
     "output_type": "stream",
     "text": [
      "Epoch: 0, Loss:  0.4098547697067261\n"
     ]
    },
    {
     "name": "stderr",
     "output_type": "stream",
     "text": [
      "26403it [28:18, 15.48it/s]"
     ]
    },
    {
     "name": "stdout",
     "output_type": "stream",
     "text": [
      "Epoch: 0, Loss:  0.395565003156662\n"
     ]
    },
    {
     "name": "stderr",
     "output_type": "stream",
     "text": [
      "26503it [28:24, 15.51it/s]"
     ]
    },
    {
     "name": "stdout",
     "output_type": "stream",
     "text": [
      "Epoch: 0, Loss:  0.0011309059336781502\n"
     ]
    },
    {
     "name": "stderr",
     "output_type": "stream",
     "text": [
      "26603it [28:31, 15.46it/s]"
     ]
    },
    {
     "name": "stdout",
     "output_type": "stream",
     "text": [
      "Epoch: 0, Loss:  0.00663432152941823\n"
     ]
    },
    {
     "name": "stderr",
     "output_type": "stream",
     "text": [
      "26703it [28:37, 15.55it/s]"
     ]
    },
    {
     "name": "stdout",
     "output_type": "stream",
     "text": [
      "Epoch: 0, Loss:  0.005971688777208328\n"
     ]
    },
    {
     "name": "stderr",
     "output_type": "stream",
     "text": [
      "26803it [28:44, 15.52it/s]"
     ]
    },
    {
     "name": "stdout",
     "output_type": "stream",
     "text": [
      "Epoch: 0, Loss:  0.0825049877166748\n"
     ]
    },
    {
     "name": "stderr",
     "output_type": "stream",
     "text": [
      "26903it [28:50, 15.47it/s]"
     ]
    },
    {
     "name": "stdout",
     "output_type": "stream",
     "text": [
      "Epoch: 0, Loss:  0.5804309248924255\n"
     ]
    },
    {
     "name": "stderr",
     "output_type": "stream",
     "text": [
      "27003it [28:57, 15.53it/s]"
     ]
    },
    {
     "name": "stdout",
     "output_type": "stream",
     "text": [
      "Epoch: 0, Loss:  0.1911056488752365\n"
     ]
    },
    {
     "name": "stderr",
     "output_type": "stream",
     "text": [
      "27103it [29:03, 15.48it/s]"
     ]
    },
    {
     "name": "stdout",
     "output_type": "stream",
     "text": [
      "Epoch: 0, Loss:  0.01623210497200489\n"
     ]
    },
    {
     "name": "stderr",
     "output_type": "stream",
     "text": [
      "27203it [29:10, 15.40it/s]"
     ]
    },
    {
     "name": "stdout",
     "output_type": "stream",
     "text": [
      "Epoch: 0, Loss:  0.5317262411117554\n"
     ]
    },
    {
     "name": "stderr",
     "output_type": "stream",
     "text": [
      "27303it [29:16, 15.46it/s]"
     ]
    },
    {
     "name": "stdout",
     "output_type": "stream",
     "text": [
      "Epoch: 0, Loss:  0.11356920003890991\n"
     ]
    },
    {
     "name": "stderr",
     "output_type": "stream",
     "text": [
      "27403it [29:22, 15.50it/s]"
     ]
    },
    {
     "name": "stdout",
     "output_type": "stream",
     "text": [
      "Epoch: 0, Loss:  0.002667684806510806\n"
     ]
    },
    {
     "name": "stderr",
     "output_type": "stream",
     "text": [
      "27503it [29:29, 15.45it/s]"
     ]
    },
    {
     "name": "stdout",
     "output_type": "stream",
     "text": [
      "Epoch: 0, Loss:  0.030819324776530266\n"
     ]
    },
    {
     "name": "stderr",
     "output_type": "stream",
     "text": [
      "27603it [29:35, 15.46it/s]"
     ]
    },
    {
     "name": "stdout",
     "output_type": "stream",
     "text": [
      "Epoch: 0, Loss:  0.0030652196146547794\n"
     ]
    },
    {
     "name": "stderr",
     "output_type": "stream",
     "text": [
      "27703it [29:42, 15.47it/s]"
     ]
    },
    {
     "name": "stdout",
     "output_type": "stream",
     "text": [
      "Epoch: 0, Loss:  0.15729892253875732\n"
     ]
    },
    {
     "name": "stderr",
     "output_type": "stream",
     "text": [
      "27803it [29:48, 15.44it/s]"
     ]
    },
    {
     "name": "stdout",
     "output_type": "stream",
     "text": [
      "Epoch: 0, Loss:  0.15199580788612366\n"
     ]
    },
    {
     "name": "stderr",
     "output_type": "stream",
     "text": [
      "27903it [29:55, 15.56it/s]"
     ]
    },
    {
     "name": "stdout",
     "output_type": "stream",
     "text": [
      "Epoch: 0, Loss:  0.10637983679771423\n"
     ]
    },
    {
     "name": "stderr",
     "output_type": "stream",
     "text": [
      "28003it [30:01, 15.50it/s]"
     ]
    },
    {
     "name": "stdout",
     "output_type": "stream",
     "text": [
      "Epoch: 0, Loss:  0.5807937979698181\n"
     ]
    },
    {
     "name": "stderr",
     "output_type": "stream",
     "text": [
      "28103it [30:08, 15.47it/s]"
     ]
    },
    {
     "name": "stdout",
     "output_type": "stream",
     "text": [
      "Epoch: 0, Loss:  0.01146002672612667\n"
     ]
    },
    {
     "name": "stderr",
     "output_type": "stream",
     "text": [
      "28203it [30:14, 15.59it/s]"
     ]
    },
    {
     "name": "stdout",
     "output_type": "stream",
     "text": [
      "Epoch: 0, Loss:  0.002548706717789173\n"
     ]
    },
    {
     "name": "stderr",
     "output_type": "stream",
     "text": [
      "28303it [30:20, 15.47it/s]"
     ]
    },
    {
     "name": "stdout",
     "output_type": "stream",
     "text": [
      "Epoch: 0, Loss:  1.3299076557159424\n"
     ]
    },
    {
     "name": "stderr",
     "output_type": "stream",
     "text": [
      "28403it [30:27, 15.49it/s]"
     ]
    },
    {
     "name": "stdout",
     "output_type": "stream",
     "text": [
      "Epoch: 0, Loss:  0.06360668689012527\n"
     ]
    },
    {
     "name": "stderr",
     "output_type": "stream",
     "text": [
      "28503it [30:33, 15.51it/s]"
     ]
    },
    {
     "name": "stdout",
     "output_type": "stream",
     "text": [
      "Epoch: 0, Loss:  0.02044423669576645\n"
     ]
    },
    {
     "name": "stderr",
     "output_type": "stream",
     "text": [
      "28603it [30:40, 15.44it/s]"
     ]
    },
    {
     "name": "stdout",
     "output_type": "stream",
     "text": [
      "Epoch: 0, Loss:  0.10563045740127563\n"
     ]
    },
    {
     "name": "stderr",
     "output_type": "stream",
     "text": [
      "28703it [30:46, 15.44it/s]"
     ]
    },
    {
     "name": "stdout",
     "output_type": "stream",
     "text": [
      "Epoch: 0, Loss:  0.03424910083413124\n"
     ]
    },
    {
     "name": "stderr",
     "output_type": "stream",
     "text": [
      "28803it [30:53, 15.51it/s]"
     ]
    },
    {
     "name": "stdout",
     "output_type": "stream",
     "text": [
      "Epoch: 0, Loss:  0.049321502447128296\n"
     ]
    },
    {
     "name": "stderr",
     "output_type": "stream",
     "text": [
      "28903it [30:59, 15.42it/s]"
     ]
    },
    {
     "name": "stdout",
     "output_type": "stream",
     "text": [
      "Epoch: 0, Loss:  0.0038830614648759365\n"
     ]
    },
    {
     "name": "stderr",
     "output_type": "stream",
     "text": [
      "29003it [31:06, 15.45it/s]"
     ]
    },
    {
     "name": "stdout",
     "output_type": "stream",
     "text": [
      "Epoch: 0, Loss:  0.014520937576889992\n"
     ]
    },
    {
     "name": "stderr",
     "output_type": "stream",
     "text": [
      "29103it [31:12, 15.41it/s]"
     ]
    },
    {
     "name": "stdout",
     "output_type": "stream",
     "text": [
      "Epoch: 0, Loss:  0.15383830666542053\n"
     ]
    },
    {
     "name": "stderr",
     "output_type": "stream",
     "text": [
      "29203it [31:19, 15.44it/s]"
     ]
    },
    {
     "name": "stdout",
     "output_type": "stream",
     "text": [
      "Epoch: 0, Loss:  0.02576345019042492\n"
     ]
    },
    {
     "name": "stderr",
     "output_type": "stream",
     "text": [
      "29303it [31:25, 15.44it/s]"
     ]
    },
    {
     "name": "stdout",
     "output_type": "stream",
     "text": [
      "Epoch: 0, Loss:  0.09198613464832306\n"
     ]
    },
    {
     "name": "stderr",
     "output_type": "stream",
     "text": [
      "29403it [31:32, 15.41it/s]"
     ]
    },
    {
     "name": "stdout",
     "output_type": "stream",
     "text": [
      "Epoch: 0, Loss:  0.0016457901801913977\n"
     ]
    },
    {
     "name": "stderr",
     "output_type": "stream",
     "text": [
      "29503it [31:38, 15.44it/s]"
     ]
    },
    {
     "name": "stdout",
     "output_type": "stream",
     "text": [
      "Epoch: 0, Loss:  0.011856546625494957\n"
     ]
    },
    {
     "name": "stderr",
     "output_type": "stream",
     "text": [
      "29603it [31:45, 15.44it/s]"
     ]
    },
    {
     "name": "stdout",
     "output_type": "stream",
     "text": [
      "Epoch: 0, Loss:  0.06406067311763763\n"
     ]
    },
    {
     "name": "stderr",
     "output_type": "stream",
     "text": [
      "29703it [31:51, 15.53it/s]"
     ]
    },
    {
     "name": "stdout",
     "output_type": "stream",
     "text": [
      "Epoch: 0, Loss:  0.001279820455238223\n"
     ]
    },
    {
     "name": "stderr",
     "output_type": "stream",
     "text": [
      "29803it [31:57, 15.43it/s]"
     ]
    },
    {
     "name": "stdout",
     "output_type": "stream",
     "text": [
      "Epoch: 0, Loss:  0.0019463786156848073\n"
     ]
    },
    {
     "name": "stderr",
     "output_type": "stream",
     "text": [
      "29903it [32:04, 15.51it/s]"
     ]
    },
    {
     "name": "stdout",
     "output_type": "stream",
     "text": [
      "Epoch: 0, Loss:  0.11775919795036316\n"
     ]
    },
    {
     "name": "stderr",
     "output_type": "stream",
     "text": [
      "30000it [32:10, 15.54it/s]"
     ]
    },
    {
     "name": "stdout",
     "output_type": "stream",
     "text": [
      "Accuracy = 0.0\n"
     ]
    },
    {
     "name": "stderr",
     "output_type": "stream",
     "text": [
      "\n"
     ]
    }
   ],
   "source": [
    "for epoch in range(EPOCHS):\n",
    "    train(epoch)"
   ]
  },
  {
   "cell_type": "markdown",
   "metadata": {
    "id": "FyMqKqmYZmm8"
   },
   "source": [
    "# ***Set Testing***"
   ]
  },
  {
   "cell_type": "code",
   "execution_count": null,
   "metadata": {
    "id": "9pliaDCRqBuc"
   },
   "outputs": [],
   "source": [
    "testing_set = Preprocessor(csv_filtered, tokenizer, MAX_LEN)\n",
    "testing_loader = DataLoader(testing_set, **test_params)"
   ]
  },
  {
   "cell_type": "code",
   "execution_count": null,
   "metadata": {
    "id": "l53kzcgZsbid"
   },
   "outputs": [],
   "source": [
    "nulls = []\n",
    "for x in range(len(testing_set)):\n",
    "  try:\n",
    "      testing_set.__getitem__(x)\n",
    "  except KeyError:\n",
    "      nulls.append(x)\n",
    "      continue"
   ]
  },
  {
   "cell_type": "code",
   "execution_count": null,
   "metadata": {
    "colab": {
     "base_uri": "https://localhost:8080/"
    },
    "id": "UC9CH7WByUoq",
    "outputId": "65983803-dee4-4a14-8fd6-1ce3b921b132"
   },
   "outputs": [
    {
     "data": {
      "text/plain": [
       "218"
      ]
     },
     "execution_count": 119,
     "metadata": {},
     "output_type": "execute_result"
    }
   ],
   "source": [
    "len(nulls)"
   ]
  },
  {
   "cell_type": "code",
   "execution_count": null,
   "metadata": {
    "colab": {
     "base_uri": "https://localhost:8080/"
    },
    "id": "aRlYMhoyzkdi",
    "outputId": "b24f42b7-c1b8-40eb-9e80-98cde1e23425"
   },
   "outputs": [
    {
     "data": {
      "text/plain": [
       "[90,\n",
       " 116,\n",
       " 168,\n",
       " 187,\n",
       " 241,\n",
       " 243,\n",
       " 275,\n",
       " 375,\n",
       " 422,\n",
       " 548,\n",
       " 612,\n",
       " 618,\n",
       " 640,\n",
       " 731,\n",
       " 799,\n",
       " 865,\n",
       " 915,\n",
       " 934,\n",
       " 979,\n",
       " 990,\n",
       " 994,\n",
       " 1133,\n",
       " 1163,\n",
       " 1258,\n",
       " 1268,\n",
       " 1395,\n",
       " 1402,\n",
       " 1404,\n",
       " 1419,\n",
       " 1502,\n",
       " 1507,\n",
       " 1569,\n",
       " 1587,\n",
       " 1629,\n",
       " 1679,\n",
       " 1687,\n",
       " 1712,\n",
       " 1727,\n",
       " 1835,\n",
       " 1851,\n",
       " 1882,\n",
       " 1950,\n",
       " 2087,\n",
       " 2114,\n",
       " 2153,\n",
       " 2338,\n",
       " 2340,\n",
       " 2476,\n",
       " 2506,\n",
       " 2584,\n",
       " 2627,\n",
       " 2630,\n",
       " 2649,\n",
       " 2735,\n",
       " 2742,\n",
       " 2764,\n",
       " 2773,\n",
       " 2779,\n",
       " 2829,\n",
       " 2857,\n",
       " 2893,\n",
       " 2907,\n",
       " 2920,\n",
       " 2945,\n",
       " 3093,\n",
       " 3132,\n",
       " 3149,\n",
       " 3166,\n",
       " 3210,\n",
       " 3241,\n",
       " 3246,\n",
       " 3248,\n",
       " 3293,\n",
       " 3301,\n",
       " 3337,\n",
       " 3388,\n",
       " 3423,\n",
       " 3491,\n",
       " 3512,\n",
       " 3514,\n",
       " 3592,\n",
       " 3608,\n",
       " 3668,\n",
       " 3687,\n",
       " 3724,\n",
       " 3757,\n",
       " 3773,\n",
       " 3778,\n",
       " 3797,\n",
       " 3870,\n",
       " 3871,\n",
       " 3892,\n",
       " 3893,\n",
       " 3904,\n",
       " 3994,\n",
       " 4007,\n",
       " 4042,\n",
       " 4051,\n",
       " 4091,\n",
       " 4094,\n",
       " 4096,\n",
       " 4103,\n",
       " 4114,\n",
       " 4123,\n",
       " 4126,\n",
       " 4218,\n",
       " 4294,\n",
       " 4295,\n",
       " 4469,\n",
       " 4508,\n",
       " 4534,\n",
       " 4541,\n",
       " 4561,\n",
       " 4693,\n",
       " 4713,\n",
       " 4754,\n",
       " 4803,\n",
       " 4865,\n",
       " 4910,\n",
       " 4953,\n",
       " 5000,\n",
       " 5015,\n",
       " 5047,\n",
       " 5104,\n",
       " 5119,\n",
       " 5159,\n",
       " 5183,\n",
       " 5284,\n",
       " 5365,\n",
       " 5406,\n",
       " 5490,\n",
       " 5565,\n",
       " 5577,\n",
       " 5596,\n",
       " 5617,\n",
       " 5627,\n",
       " 5682,\n",
       " 5802,\n",
       " 5848,\n",
       " 5935,\n",
       " 6061,\n",
       " 6145,\n",
       " 6405,\n",
       " 6481,\n",
       " 6512,\n",
       " 6563,\n",
       " 6582,\n",
       " 6595,\n",
       " 6624,\n",
       " 6685,\n",
       " 6690,\n",
       " 6710,\n",
       " 6716,\n",
       " 6778,\n",
       " 6810,\n",
       " 6814,\n",
       " 6864,\n",
       " 6978,\n",
       " 6994,\n",
       " 7080,\n",
       " 7109,\n",
       " 7151,\n",
       " 7160,\n",
       " 7250,\n",
       " 7327,\n",
       " 7337,\n",
       " 7341,\n",
       " 7363,\n",
       " 7364,\n",
       " 7372,\n",
       " 7376,\n",
       " 7422,\n",
       " 7440,\n",
       " 7444,\n",
       " 7447,\n",
       " 7474,\n",
       " 7484,\n",
       " 7568,\n",
       " 7589,\n",
       " 7647,\n",
       " 7676,\n",
       " 7782,\n",
       " 7864,\n",
       " 7936,\n",
       " 7950,\n",
       " 7999,\n",
       " 8001,\n",
       " 8009,\n",
       " 8024,\n",
       " 8075,\n",
       " 8130,\n",
       " 8136,\n",
       " 8159,\n",
       " 8168,\n",
       " 8175,\n",
       " 8178,\n",
       " 8216,\n",
       " 8217,\n",
       " 8308,\n",
       " 8315,\n",
       " 8318,\n",
       " 8382,\n",
       " 8414,\n",
       " 8426,\n",
       " 8432,\n",
       " 8437,\n",
       " 8465,\n",
       " 8477,\n",
       " 8486,\n",
       " 8488,\n",
       " 8505,\n",
       " 8532,\n",
       " 8604,\n",
       " 8607,\n",
       " 8612,\n",
       " 8622,\n",
       " 8716,\n",
       " 8738]"
      ]
     },
     "execution_count": 120,
     "metadata": {},
     "output_type": "execute_result"
    }
   ],
   "source": [
    "nulls"
   ]
  },
  {
   "cell_type": "code",
   "execution_count": null,
   "metadata": {
    "id": "BQDN_8wCZqjK"
   },
   "outputs": [],
   "source": [
    "outputs, targets = validation(testing_loader)\n",
    "\n",
    "final_outputs = np.array(outputs) >= CLASSIFY_THRESHOLD"
   ]
  },
  {
   "cell_type": "code",
   "execution_count": null,
   "metadata": {
    "id": "lcMnaQBhZvgT"
   },
   "outputs": [],
   "source": [
    "val_hamming_loss = metrics.hamming_loss(targets, final_outputs)\n",
    "val_hamming_score = hamming_score(np.array(targets), np.array(final_outputs))\n",
    "\n",
    "print(f\"Hamming Score = {val_hamming_score}\")\n",
    "print(f\"Hamming Loss = {val_hamming_loss}\")"
   ]
  },
  {
   "cell_type": "code",
   "execution_count": null,
   "metadata": {
    "id": "X_9dKwILZ6ue"
   },
   "outputs": [],
   "source": [
    "from sklearn.metrics import f1_score\n",
    "f1_score(targets, final_outputs)"
   ]
  },
  {
   "cell_type": "code",
   "execution_count": null,
   "metadata": {
    "id": "YwtpPaR7aDM0"
   },
   "outputs": [],
   "source": [
    "from sklearn.metrics import accuracy_score\n",
    "accuracy_score(targets, final_outputs)"
   ]
  }
 ],
 "metadata": {
  "accelerator": "GPU",
  "colab": {
   "collapsed_sections": [
    "Zwyjbjbmg6OU",
    "PACAh1ZKhA2S",
    "8_lkbqylVpGu",
    "hcmd5I2Zf6sM",
    "WznKbdkYgdQf",
    "T313zoZCWCIJ",
    "4usIHodUW_0k",
    "O4URg3k31PpB",
    "FyIIGBGC3jgY",
    "5jFaZn4W1B9L",
    "PiwbES7FSkWb",
    "qrbjsr2ggU9f",
    "0N3HnXHzeC04",
    "IsqvE9Mye_5b",
    "uRTlza7I6329"
   ],
   "provenance": []
  },
  "gpuClass": "standard",
  "kernelspec": {
   "display_name": "Python 3 (ipykernel)",
   "language": "python",
   "name": "python3"
  },
  "language_info": {
   "codemirror_mode": {
    "name": "ipython",
    "version": 3
   },
   "file_extension": ".py",
   "mimetype": "text/x-python",
   "name": "python",
   "nbconvert_exporter": "python",
   "pygments_lexer": "ipython3",
   "version": "3.9.13"
  },
  "widgets": {
   "application/vnd.jupyter.widget-state+json": {
    "0363bbf94b664244b3af2fc0a730d04b": {
     "model_module": "@jupyter-widgets/base",
     "model_module_version": "1.2.0",
     "model_name": "LayoutModel",
     "state": {
      "_model_module": "@jupyter-widgets/base",
      "_model_module_version": "1.2.0",
      "_model_name": "LayoutModel",
      "_view_count": null,
      "_view_module": "@jupyter-widgets/base",
      "_view_module_version": "1.2.0",
      "_view_name": "LayoutView",
      "align_content": null,
      "align_items": null,
      "align_self": null,
      "border": null,
      "bottom": null,
      "display": null,
      "flex": null,
      "flex_flow": null,
      "grid_area": null,
      "grid_auto_columns": null,
      "grid_auto_flow": null,
      "grid_auto_rows": null,
      "grid_column": null,
      "grid_gap": null,
      "grid_row": null,
      "grid_template_areas": null,
      "grid_template_columns": null,
      "grid_template_rows": null,
      "height": null,
      "justify_content": null,
      "justify_items": null,
      "left": null,
      "margin": null,
      "max_height": null,
      "max_width": null,
      "min_height": null,
      "min_width": null,
      "object_fit": null,
      "object_position": null,
      "order": null,
      "overflow": null,
      "overflow_x": null,
      "overflow_y": null,
      "padding": null,
      "right": null,
      "top": null,
      "visibility": null,
      "width": null
     }
    },
    "03d011535a134e3e9be08194435bc61b": {
     "model_module": "@jupyter-widgets/controls",
     "model_module_version": "1.5.0",
     "model_name": "HTMLModel",
     "state": {
      "_dom_classes": [],
      "_model_module": "@jupyter-widgets/controls",
      "_model_module_version": "1.5.0",
      "_model_name": "HTMLModel",
      "_view_count": null,
      "_view_module": "@jupyter-widgets/controls",
      "_view_module_version": "1.5.0",
      "_view_name": "HTMLView",
      "description": "",
      "description_tooltip": null,
      "layout": "IPY_MODEL_0e349ac971214aa0b0dd07938b33db51",
      "placeholder": "​",
      "style": "IPY_MODEL_579a4a7405da4547917fca1f5030c602",
      "value": " 483/483 [00:00&lt;00:00, 18.2kB/s]"
     }
    },
    "09dc4d2086ce469ea7ad288c5bc8abae": {
     "model_module": "@jupyter-widgets/base",
     "model_module_version": "1.2.0",
     "model_name": "LayoutModel",
     "state": {
      "_model_module": "@jupyter-widgets/base",
      "_model_module_version": "1.2.0",
      "_model_name": "LayoutModel",
      "_view_count": null,
      "_view_module": "@jupyter-widgets/base",
      "_view_module_version": "1.2.0",
      "_view_name": "LayoutView",
      "align_content": null,
      "align_items": null,
      "align_self": null,
      "border": null,
      "bottom": null,
      "display": null,
      "flex": null,
      "flex_flow": null,
      "grid_area": null,
      "grid_auto_columns": null,
      "grid_auto_flow": null,
      "grid_auto_rows": null,
      "grid_column": null,
      "grid_gap": null,
      "grid_row": null,
      "grid_template_areas": null,
      "grid_template_columns": null,
      "grid_template_rows": null,
      "height": null,
      "justify_content": null,
      "justify_items": null,
      "left": null,
      "margin": null,
      "max_height": null,
      "max_width": null,
      "min_height": null,
      "min_width": null,
      "object_fit": null,
      "object_position": null,
      "order": null,
      "overflow": null,
      "overflow_x": null,
      "overflow_y": null,
      "padding": null,
      "right": null,
      "top": null,
      "visibility": null,
      "width": null
     }
    },
    "0e349ac971214aa0b0dd07938b33db51": {
     "model_module": "@jupyter-widgets/base",
     "model_module_version": "1.2.0",
     "model_name": "LayoutModel",
     "state": {
      "_model_module": "@jupyter-widgets/base",
      "_model_module_version": "1.2.0",
      "_model_name": "LayoutModel",
      "_view_count": null,
      "_view_module": "@jupyter-widgets/base",
      "_view_module_version": "1.2.0",
      "_view_name": "LayoutView",
      "align_content": null,
      "align_items": null,
      "align_self": null,
      "border": null,
      "bottom": null,
      "display": null,
      "flex": null,
      "flex_flow": null,
      "grid_area": null,
      "grid_auto_columns": null,
      "grid_auto_flow": null,
      "grid_auto_rows": null,
      "grid_column": null,
      "grid_gap": null,
      "grid_row": null,
      "grid_template_areas": null,
      "grid_template_columns": null,
      "grid_template_rows": null,
      "height": null,
      "justify_content": null,
      "justify_items": null,
      "left": null,
      "margin": null,
      "max_height": null,
      "max_width": null,
      "min_height": null,
      "min_width": null,
      "object_fit": null,
      "object_position": null,
      "order": null,
      "overflow": null,
      "overflow_x": null,
      "overflow_y": null,
      "padding": null,
      "right": null,
      "top": null,
      "visibility": null,
      "width": null
     }
    },
    "0e3908e5a1314e5a979ba362a0f60e90": {
     "model_module": "@jupyter-widgets/base",
     "model_module_version": "1.2.0",
     "model_name": "LayoutModel",
     "state": {
      "_model_module": "@jupyter-widgets/base",
      "_model_module_version": "1.2.0",
      "_model_name": "LayoutModel",
      "_view_count": null,
      "_view_module": "@jupyter-widgets/base",
      "_view_module_version": "1.2.0",
      "_view_name": "LayoutView",
      "align_content": null,
      "align_items": null,
      "align_self": null,
      "border": null,
      "bottom": null,
      "display": null,
      "flex": null,
      "flex_flow": null,
      "grid_area": null,
      "grid_auto_columns": null,
      "grid_auto_flow": null,
      "grid_auto_rows": null,
      "grid_column": null,
      "grid_gap": null,
      "grid_row": null,
      "grid_template_areas": null,
      "grid_template_columns": null,
      "grid_template_rows": null,
      "height": null,
      "justify_content": null,
      "justify_items": null,
      "left": null,
      "margin": null,
      "max_height": null,
      "max_width": null,
      "min_height": null,
      "min_width": null,
      "object_fit": null,
      "object_position": null,
      "order": null,
      "overflow": null,
      "overflow_x": null,
      "overflow_y": null,
      "padding": null,
      "right": null,
      "top": null,
      "visibility": null,
      "width": null
     }
    },
    "212a4ce31331471db7ebcec20b66cc0d": {
     "model_module": "@jupyter-widgets/controls",
     "model_module_version": "1.5.0",
     "model_name": "HBoxModel",
     "state": {
      "_dom_classes": [],
      "_model_module": "@jupyter-widgets/controls",
      "_model_module_version": "1.5.0",
      "_model_name": "HBoxModel",
      "_view_count": null,
      "_view_module": "@jupyter-widgets/controls",
      "_view_module_version": "1.5.0",
      "_view_name": "HBoxView",
      "box_style": "",
      "children": [
       "IPY_MODEL_8dc2a778c5b2496ba2a1dac9a9372674",
       "IPY_MODEL_57b487b6cb604e178928ea4b8a0d09d1",
       "IPY_MODEL_42c7a82a877f43d28639be5b5cd1cf87"
      ],
      "layout": "IPY_MODEL_56c43b76fc7a4073af3c33944ae22a0f"
     }
    },
    "29823090ca164aeb9ef4c8ee3d51aad6": {
     "model_module": "@jupyter-widgets/base",
     "model_module_version": "1.2.0",
     "model_name": "LayoutModel",
     "state": {
      "_model_module": "@jupyter-widgets/base",
      "_model_module_version": "1.2.0",
      "_model_name": "LayoutModel",
      "_view_count": null,
      "_view_module": "@jupyter-widgets/base",
      "_view_module_version": "1.2.0",
      "_view_name": "LayoutView",
      "align_content": null,
      "align_items": null,
      "align_self": null,
      "border": null,
      "bottom": null,
      "display": null,
      "flex": null,
      "flex_flow": null,
      "grid_area": null,
      "grid_auto_columns": null,
      "grid_auto_flow": null,
      "grid_auto_rows": null,
      "grid_column": null,
      "grid_gap": null,
      "grid_row": null,
      "grid_template_areas": null,
      "grid_template_columns": null,
      "grid_template_rows": null,
      "height": null,
      "justify_content": null,
      "justify_items": null,
      "left": null,
      "margin": null,
      "max_height": null,
      "max_width": null,
      "min_height": null,
      "min_width": null,
      "object_fit": null,
      "object_position": null,
      "order": null,
      "overflow": null,
      "overflow_x": null,
      "overflow_y": null,
      "padding": null,
      "right": null,
      "top": null,
      "visibility": null,
      "width": null
     }
    },
    "2bf9f7ffddf8456a8e0277218b6bcad8": {
     "model_module": "@jupyter-widgets/controls",
     "model_module_version": "1.5.0",
     "model_name": "DescriptionStyleModel",
     "state": {
      "_model_module": "@jupyter-widgets/controls",
      "_model_module_version": "1.5.0",
      "_model_name": "DescriptionStyleModel",
      "_view_count": null,
      "_view_module": "@jupyter-widgets/base",
      "_view_module_version": "1.2.0",
      "_view_name": "StyleView",
      "description_width": ""
     }
    },
    "3a723a10286e43b7961ac8af922e225a": {
     "model_module": "@jupyter-widgets/controls",
     "model_module_version": "1.5.0",
     "model_name": "HBoxModel",
     "state": {
      "_dom_classes": [],
      "_model_module": "@jupyter-widgets/controls",
      "_model_module_version": "1.5.0",
      "_model_name": "HBoxModel",
      "_view_count": null,
      "_view_module": "@jupyter-widgets/controls",
      "_view_module_version": "1.5.0",
      "_view_name": "HBoxView",
      "box_style": "",
      "children": [
       "IPY_MODEL_6d627aad56964126a160d60c42e44320",
       "IPY_MODEL_6cbb949067f64bb7a240d0e1afe03734",
       "IPY_MODEL_d4056e77dc574c0ca8ef5697d13c4cf3"
      ],
      "layout": "IPY_MODEL_0363bbf94b664244b3af2fc0a730d04b"
     }
    },
    "4211c52e3d92482fb278c20fc59d2daa": {
     "model_module": "@jupyter-widgets/controls",
     "model_module_version": "1.5.0",
     "model_name": "ProgressStyleModel",
     "state": {
      "_model_module": "@jupyter-widgets/controls",
      "_model_module_version": "1.5.0",
      "_model_name": "ProgressStyleModel",
      "_view_count": null,
      "_view_module": "@jupyter-widgets/base",
      "_view_module_version": "1.2.0",
      "_view_name": "StyleView",
      "bar_color": null,
      "description_width": ""
     }
    },
    "42c7a82a877f43d28639be5b5cd1cf87": {
     "model_module": "@jupyter-widgets/controls",
     "model_module_version": "1.5.0",
     "model_name": "HTMLModel",
     "state": {
      "_dom_classes": [],
      "_model_module": "@jupyter-widgets/controls",
      "_model_module_version": "1.5.0",
      "_model_name": "HTMLModel",
      "_view_count": null,
      "_view_module": "@jupyter-widgets/controls",
      "_view_module_version": "1.5.0",
      "_view_name": "HTMLView",
      "description": "",
      "description_tooltip": null,
      "layout": "IPY_MODEL_4cc1fdd66b994583984c7c68a418798a",
      "placeholder": "​",
      "style": "IPY_MODEL_868adf07cd5a4d42aae965e3bf7fb2ca",
      "value": " 232k/232k [00:00&lt;00:00, 1.65MB/s]"
     }
    },
    "4589bec57c3e4f469d00e2a088770751": {
     "model_module": "@jupyter-widgets/controls",
     "model_module_version": "1.5.0",
     "model_name": "HTMLModel",
     "state": {
      "_dom_classes": [],
      "_model_module": "@jupyter-widgets/controls",
      "_model_module_version": "1.5.0",
      "_model_name": "HTMLModel",
      "_view_count": null,
      "_view_module": "@jupyter-widgets/controls",
      "_view_module_version": "1.5.0",
      "_view_name": "HTMLView",
      "description": "",
      "description_tooltip": null,
      "layout": "IPY_MODEL_fd72fc6d1e804371aaba9c3ec012c017",
      "placeholder": "​",
      "style": "IPY_MODEL_4ebec42bd1274e8db551666aa9180dd8",
      "value": "Downloading: 100%"
     }
    },
    "45b482687fde48d3be28cb211313a886": {
     "model_module": "@jupyter-widgets/base",
     "model_module_version": "1.2.0",
     "model_name": "LayoutModel",
     "state": {
      "_model_module": "@jupyter-widgets/base",
      "_model_module_version": "1.2.0",
      "_model_name": "LayoutModel",
      "_view_count": null,
      "_view_module": "@jupyter-widgets/base",
      "_view_module_version": "1.2.0",
      "_view_name": "LayoutView",
      "align_content": null,
      "align_items": null,
      "align_self": null,
      "border": null,
      "bottom": null,
      "display": null,
      "flex": null,
      "flex_flow": null,
      "grid_area": null,
      "grid_auto_columns": null,
      "grid_auto_flow": null,
      "grid_auto_rows": null,
      "grid_column": null,
      "grid_gap": null,
      "grid_row": null,
      "grid_template_areas": null,
      "grid_template_columns": null,
      "grid_template_rows": null,
      "height": null,
      "justify_content": null,
      "justify_items": null,
      "left": null,
      "margin": null,
      "max_height": null,
      "max_width": null,
      "min_height": null,
      "min_width": null,
      "object_fit": null,
      "object_position": null,
      "order": null,
      "overflow": null,
      "overflow_x": null,
      "overflow_y": null,
      "padding": null,
      "right": null,
      "top": null,
      "visibility": null,
      "width": null
     }
    },
    "4c1532cb4082491e8d098e9ad982d581": {
     "model_module": "@jupyter-widgets/controls",
     "model_module_version": "1.5.0",
     "model_name": "HTMLModel",
     "state": {
      "_dom_classes": [],
      "_model_module": "@jupyter-widgets/controls",
      "_model_module_version": "1.5.0",
      "_model_name": "HTMLModel",
      "_view_count": null,
      "_view_module": "@jupyter-widgets/controls",
      "_view_module_version": "1.5.0",
      "_view_name": "HTMLView",
      "description": "",
      "description_tooltip": null,
      "layout": "IPY_MODEL_6d06b226fda94c7798c9bf45888057a8",
      "placeholder": "​",
      "style": "IPY_MODEL_b92789cfa3e0427da9d733ae41741d13",
      "value": " 28.0/28.0 [00:00&lt;00:00, 845B/s]"
     }
    },
    "4cc1fdd66b994583984c7c68a418798a": {
     "model_module": "@jupyter-widgets/base",
     "model_module_version": "1.2.0",
     "model_name": "LayoutModel",
     "state": {
      "_model_module": "@jupyter-widgets/base",
      "_model_module_version": "1.2.0",
      "_model_name": "LayoutModel",
      "_view_count": null,
      "_view_module": "@jupyter-widgets/base",
      "_view_module_version": "1.2.0",
      "_view_name": "LayoutView",
      "align_content": null,
      "align_items": null,
      "align_self": null,
      "border": null,
      "bottom": null,
      "display": null,
      "flex": null,
      "flex_flow": null,
      "grid_area": null,
      "grid_auto_columns": null,
      "grid_auto_flow": null,
      "grid_auto_rows": null,
      "grid_column": null,
      "grid_gap": null,
      "grid_row": null,
      "grid_template_areas": null,
      "grid_template_columns": null,
      "grid_template_rows": null,
      "height": null,
      "justify_content": null,
      "justify_items": null,
      "left": null,
      "margin": null,
      "max_height": null,
      "max_width": null,
      "min_height": null,
      "min_width": null,
      "object_fit": null,
      "object_position": null,
      "order": null,
      "overflow": null,
      "overflow_x": null,
      "overflow_y": null,
      "padding": null,
      "right": null,
      "top": null,
      "visibility": null,
      "width": null
     }
    },
    "4ebec42bd1274e8db551666aa9180dd8": {
     "model_module": "@jupyter-widgets/controls",
     "model_module_version": "1.5.0",
     "model_name": "DescriptionStyleModel",
     "state": {
      "_model_module": "@jupyter-widgets/controls",
      "_model_module_version": "1.5.0",
      "_model_name": "DescriptionStyleModel",
      "_view_count": null,
      "_view_module": "@jupyter-widgets/base",
      "_view_module_version": "1.2.0",
      "_view_name": "StyleView",
      "description_width": ""
     }
    },
    "551e26f0cadd49028b4c1dc2c680e5ea": {
     "model_module": "@jupyter-widgets/controls",
     "model_module_version": "1.5.0",
     "model_name": "ProgressStyleModel",
     "state": {
      "_model_module": "@jupyter-widgets/controls",
      "_model_module_version": "1.5.0",
      "_model_name": "ProgressStyleModel",
      "_view_count": null,
      "_view_module": "@jupyter-widgets/base",
      "_view_module_version": "1.2.0",
      "_view_name": "StyleView",
      "bar_color": null,
      "description_width": ""
     }
    },
    "56c43b76fc7a4073af3c33944ae22a0f": {
     "model_module": "@jupyter-widgets/base",
     "model_module_version": "1.2.0",
     "model_name": "LayoutModel",
     "state": {
      "_model_module": "@jupyter-widgets/base",
      "_model_module_version": "1.2.0",
      "_model_name": "LayoutModel",
      "_view_count": null,
      "_view_module": "@jupyter-widgets/base",
      "_view_module_version": "1.2.0",
      "_view_name": "LayoutView",
      "align_content": null,
      "align_items": null,
      "align_self": null,
      "border": null,
      "bottom": null,
      "display": null,
      "flex": null,
      "flex_flow": null,
      "grid_area": null,
      "grid_auto_columns": null,
      "grid_auto_flow": null,
      "grid_auto_rows": null,
      "grid_column": null,
      "grid_gap": null,
      "grid_row": null,
      "grid_template_areas": null,
      "grid_template_columns": null,
      "grid_template_rows": null,
      "height": null,
      "justify_content": null,
      "justify_items": null,
      "left": null,
      "margin": null,
      "max_height": null,
      "max_width": null,
      "min_height": null,
      "min_width": null,
      "object_fit": null,
      "object_position": null,
      "order": null,
      "overflow": null,
      "overflow_x": null,
      "overflow_y": null,
      "padding": null,
      "right": null,
      "top": null,
      "visibility": null,
      "width": null
     }
    },
    "579a4a7405da4547917fca1f5030c602": {
     "model_module": "@jupyter-widgets/controls",
     "model_module_version": "1.5.0",
     "model_name": "DescriptionStyleModel",
     "state": {
      "_model_module": "@jupyter-widgets/controls",
      "_model_module_version": "1.5.0",
      "_model_name": "DescriptionStyleModel",
      "_view_count": null,
      "_view_module": "@jupyter-widgets/base",
      "_view_module_version": "1.2.0",
      "_view_name": "StyleView",
      "description_width": ""
     }
    },
    "57b487b6cb604e178928ea4b8a0d09d1": {
     "model_module": "@jupyter-widgets/controls",
     "model_module_version": "1.5.0",
     "model_name": "FloatProgressModel",
     "state": {
      "_dom_classes": [],
      "_model_module": "@jupyter-widgets/controls",
      "_model_module_version": "1.5.0",
      "_model_name": "FloatProgressModel",
      "_view_count": null,
      "_view_module": "@jupyter-widgets/controls",
      "_view_module_version": "1.5.0",
      "_view_name": "ProgressView",
      "bar_style": "success",
      "description": "",
      "description_tooltip": null,
      "layout": "IPY_MODEL_09dc4d2086ce469ea7ad288c5bc8abae",
      "max": 231508,
      "min": 0,
      "orientation": "horizontal",
      "style": "IPY_MODEL_685a89c8f832443081bfcbb019f4d54b",
      "value": 231508
     }
    },
    "685a89c8f832443081bfcbb019f4d54b": {
     "model_module": "@jupyter-widgets/controls",
     "model_module_version": "1.5.0",
     "model_name": "ProgressStyleModel",
     "state": {
      "_model_module": "@jupyter-widgets/controls",
      "_model_module_version": "1.5.0",
      "_model_name": "ProgressStyleModel",
      "_view_count": null,
      "_view_module": "@jupyter-widgets/base",
      "_view_module_version": "1.2.0",
      "_view_name": "StyleView",
      "bar_color": null,
      "description_width": ""
     }
    },
    "68db60baad0f46c6b6e8a3df03c0f792": {
     "model_module": "@jupyter-widgets/controls",
     "model_module_version": "1.5.0",
     "model_name": "HTMLModel",
     "state": {
      "_dom_classes": [],
      "_model_module": "@jupyter-widgets/controls",
      "_model_module_version": "1.5.0",
      "_model_name": "HTMLModel",
      "_view_count": null,
      "_view_module": "@jupyter-widgets/controls",
      "_view_module_version": "1.5.0",
      "_view_name": "HTMLView",
      "description": "",
      "description_tooltip": null,
      "layout": "IPY_MODEL_6ade0e87756e442ab2332e3c5a2c54b6",
      "placeholder": "​",
      "style": "IPY_MODEL_2bf9f7ffddf8456a8e0277218b6bcad8",
      "value": "Downloading: 100%"
     }
    },
    "6ade0e87756e442ab2332e3c5a2c54b6": {
     "model_module": "@jupyter-widgets/base",
     "model_module_version": "1.2.0",
     "model_name": "LayoutModel",
     "state": {
      "_model_module": "@jupyter-widgets/base",
      "_model_module_version": "1.2.0",
      "_model_name": "LayoutModel",
      "_view_count": null,
      "_view_module": "@jupyter-widgets/base",
      "_view_module_version": "1.2.0",
      "_view_name": "LayoutView",
      "align_content": null,
      "align_items": null,
      "align_self": null,
      "border": null,
      "bottom": null,
      "display": null,
      "flex": null,
      "flex_flow": null,
      "grid_area": null,
      "grid_auto_columns": null,
      "grid_auto_flow": null,
      "grid_auto_rows": null,
      "grid_column": null,
      "grid_gap": null,
      "grid_row": null,
      "grid_template_areas": null,
      "grid_template_columns": null,
      "grid_template_rows": null,
      "height": null,
      "justify_content": null,
      "justify_items": null,
      "left": null,
      "margin": null,
      "max_height": null,
      "max_width": null,
      "min_height": null,
      "min_width": null,
      "object_fit": null,
      "object_position": null,
      "order": null,
      "overflow": null,
      "overflow_x": null,
      "overflow_y": null,
      "padding": null,
      "right": null,
      "top": null,
      "visibility": null,
      "width": null
     }
    },
    "6cbb949067f64bb7a240d0e1afe03734": {
     "model_module": "@jupyter-widgets/controls",
     "model_module_version": "1.5.0",
     "model_name": "FloatProgressModel",
     "state": {
      "_dom_classes": [],
      "_model_module": "@jupyter-widgets/controls",
      "_model_module_version": "1.5.0",
      "_model_name": "FloatProgressModel",
      "_view_count": null,
      "_view_module": "@jupyter-widgets/controls",
      "_view_module_version": "1.5.0",
      "_view_name": "ProgressView",
      "bar_style": "success",
      "description": "",
      "description_tooltip": null,
      "layout": "IPY_MODEL_97e4a0f4149b4fa7b48c66ab8a13e492",
      "max": 267967963,
      "min": 0,
      "orientation": "horizontal",
      "style": "IPY_MODEL_95d23ed973dc40c381db624199251e55",
      "value": 267967963
     }
    },
    "6d06b226fda94c7798c9bf45888057a8": {
     "model_module": "@jupyter-widgets/base",
     "model_module_version": "1.2.0",
     "model_name": "LayoutModel",
     "state": {
      "_model_module": "@jupyter-widgets/base",
      "_model_module_version": "1.2.0",
      "_model_name": "LayoutModel",
      "_view_count": null,
      "_view_module": "@jupyter-widgets/base",
      "_view_module_version": "1.2.0",
      "_view_name": "LayoutView",
      "align_content": null,
      "align_items": null,
      "align_self": null,
      "border": null,
      "bottom": null,
      "display": null,
      "flex": null,
      "flex_flow": null,
      "grid_area": null,
      "grid_auto_columns": null,
      "grid_auto_flow": null,
      "grid_auto_rows": null,
      "grid_column": null,
      "grid_gap": null,
      "grid_row": null,
      "grid_template_areas": null,
      "grid_template_columns": null,
      "grid_template_rows": null,
      "height": null,
      "justify_content": null,
      "justify_items": null,
      "left": null,
      "margin": null,
      "max_height": null,
      "max_width": null,
      "min_height": null,
      "min_width": null,
      "object_fit": null,
      "object_position": null,
      "order": null,
      "overflow": null,
      "overflow_x": null,
      "overflow_y": null,
      "padding": null,
      "right": null,
      "top": null,
      "visibility": null,
      "width": null
     }
    },
    "6d627aad56964126a160d60c42e44320": {
     "model_module": "@jupyter-widgets/controls",
     "model_module_version": "1.5.0",
     "model_name": "HTMLModel",
     "state": {
      "_dom_classes": [],
      "_model_module": "@jupyter-widgets/controls",
      "_model_module_version": "1.5.0",
      "_model_name": "HTMLModel",
      "_view_count": null,
      "_view_module": "@jupyter-widgets/controls",
      "_view_module_version": "1.5.0",
      "_view_name": "HTMLView",
      "description": "",
      "description_tooltip": null,
      "layout": "IPY_MODEL_d184e39d7a8048619e1991fb47b5d8c6",
      "placeholder": "​",
      "style": "IPY_MODEL_8483b653eef74b0aa6edbc30169ed3f8",
      "value": "Downloading: 100%"
     }
    },
    "704e9b5eb1f04fa197d71f3bc697fe6e": {
     "model_module": "@jupyter-widgets/controls",
     "model_module_version": "1.5.0",
     "model_name": "DescriptionStyleModel",
     "state": {
      "_model_module": "@jupyter-widgets/controls",
      "_model_module_version": "1.5.0",
      "_model_name": "DescriptionStyleModel",
      "_view_count": null,
      "_view_module": "@jupyter-widgets/base",
      "_view_module_version": "1.2.0",
      "_view_name": "StyleView",
      "description_width": ""
     }
    },
    "7fcb1c811b87408fbaa26d3f66094e8d": {
     "model_module": "@jupyter-widgets/controls",
     "model_module_version": "1.5.0",
     "model_name": "HBoxModel",
     "state": {
      "_dom_classes": [],
      "_model_module": "@jupyter-widgets/controls",
      "_model_module_version": "1.5.0",
      "_model_name": "HBoxModel",
      "_view_count": null,
      "_view_module": "@jupyter-widgets/controls",
      "_view_module_version": "1.5.0",
      "_view_name": "HBoxView",
      "box_style": "",
      "children": [
       "IPY_MODEL_68db60baad0f46c6b6e8a3df03c0f792",
       "IPY_MODEL_a510e29dcfc2437ea1c3a69d342d8b0c",
       "IPY_MODEL_03d011535a134e3e9be08194435bc61b"
      ],
      "layout": "IPY_MODEL_45b482687fde48d3be28cb211313a886"
     }
    },
    "8483b653eef74b0aa6edbc30169ed3f8": {
     "model_module": "@jupyter-widgets/controls",
     "model_module_version": "1.5.0",
     "model_name": "DescriptionStyleModel",
     "state": {
      "_model_module": "@jupyter-widgets/controls",
      "_model_module_version": "1.5.0",
      "_model_name": "DescriptionStyleModel",
      "_view_count": null,
      "_view_module": "@jupyter-widgets/base",
      "_view_module_version": "1.2.0",
      "_view_name": "StyleView",
      "description_width": ""
     }
    },
    "868adf07cd5a4d42aae965e3bf7fb2ca": {
     "model_module": "@jupyter-widgets/controls",
     "model_module_version": "1.5.0",
     "model_name": "DescriptionStyleModel",
     "state": {
      "_model_module": "@jupyter-widgets/controls",
      "_model_module_version": "1.5.0",
      "_model_name": "DescriptionStyleModel",
      "_view_count": null,
      "_view_module": "@jupyter-widgets/base",
      "_view_module_version": "1.2.0",
      "_view_name": "StyleView",
      "description_width": ""
     }
    },
    "8dc2a778c5b2496ba2a1dac9a9372674": {
     "model_module": "@jupyter-widgets/controls",
     "model_module_version": "1.5.0",
     "model_name": "HTMLModel",
     "state": {
      "_dom_classes": [],
      "_model_module": "@jupyter-widgets/controls",
      "_model_module_version": "1.5.0",
      "_model_name": "HTMLModel",
      "_view_count": null,
      "_view_module": "@jupyter-widgets/controls",
      "_view_module_version": "1.5.0",
      "_view_name": "HTMLView",
      "description": "",
      "description_tooltip": null,
      "layout": "IPY_MODEL_ae4e026c7ec841dd9e79c6758737c775",
      "placeholder": "​",
      "style": "IPY_MODEL_b151b57066ab4c6788c99951ae3f2371",
      "value": "Downloading: 100%"
     }
    },
    "918d480e77cf4c74860efdd8f7c740a5": {
     "model_module": "@jupyter-widgets/base",
     "model_module_version": "1.2.0",
     "model_name": "LayoutModel",
     "state": {
      "_model_module": "@jupyter-widgets/base",
      "_model_module_version": "1.2.0",
      "_model_name": "LayoutModel",
      "_view_count": null,
      "_view_module": "@jupyter-widgets/base",
      "_view_module_version": "1.2.0",
      "_view_name": "LayoutView",
      "align_content": null,
      "align_items": null,
      "align_self": null,
      "border": null,
      "bottom": null,
      "display": null,
      "flex": null,
      "flex_flow": null,
      "grid_area": null,
      "grid_auto_columns": null,
      "grid_auto_flow": null,
      "grid_auto_rows": null,
      "grid_column": null,
      "grid_gap": null,
      "grid_row": null,
      "grid_template_areas": null,
      "grid_template_columns": null,
      "grid_template_rows": null,
      "height": null,
      "justify_content": null,
      "justify_items": null,
      "left": null,
      "margin": null,
      "max_height": null,
      "max_width": null,
      "min_height": null,
      "min_width": null,
      "object_fit": null,
      "object_position": null,
      "order": null,
      "overflow": null,
      "overflow_x": null,
      "overflow_y": null,
      "padding": null,
      "right": null,
      "top": null,
      "visibility": null,
      "width": null
     }
    },
    "95d23ed973dc40c381db624199251e55": {
     "model_module": "@jupyter-widgets/controls",
     "model_module_version": "1.5.0",
     "model_name": "ProgressStyleModel",
     "state": {
      "_model_module": "@jupyter-widgets/controls",
      "_model_module_version": "1.5.0",
      "_model_name": "ProgressStyleModel",
      "_view_count": null,
      "_view_module": "@jupyter-widgets/base",
      "_view_module_version": "1.2.0",
      "_view_name": "StyleView",
      "bar_color": null,
      "description_width": ""
     }
    },
    "97e4a0f4149b4fa7b48c66ab8a13e492": {
     "model_module": "@jupyter-widgets/base",
     "model_module_version": "1.2.0",
     "model_name": "LayoutModel",
     "state": {
      "_model_module": "@jupyter-widgets/base",
      "_model_module_version": "1.2.0",
      "_model_name": "LayoutModel",
      "_view_count": null,
      "_view_module": "@jupyter-widgets/base",
      "_view_module_version": "1.2.0",
      "_view_name": "LayoutView",
      "align_content": null,
      "align_items": null,
      "align_self": null,
      "border": null,
      "bottom": null,
      "display": null,
      "flex": null,
      "flex_flow": null,
      "grid_area": null,
      "grid_auto_columns": null,
      "grid_auto_flow": null,
      "grid_auto_rows": null,
      "grid_column": null,
      "grid_gap": null,
      "grid_row": null,
      "grid_template_areas": null,
      "grid_template_columns": null,
      "grid_template_rows": null,
      "height": null,
      "justify_content": null,
      "justify_items": null,
      "left": null,
      "margin": null,
      "max_height": null,
      "max_width": null,
      "min_height": null,
      "min_width": null,
      "object_fit": null,
      "object_position": null,
      "order": null,
      "overflow": null,
      "overflow_x": null,
      "overflow_y": null,
      "padding": null,
      "right": null,
      "top": null,
      "visibility": null,
      "width": null
     }
    },
    "a510e29dcfc2437ea1c3a69d342d8b0c": {
     "model_module": "@jupyter-widgets/controls",
     "model_module_version": "1.5.0",
     "model_name": "FloatProgressModel",
     "state": {
      "_dom_classes": [],
      "_model_module": "@jupyter-widgets/controls",
      "_model_module_version": "1.5.0",
      "_model_name": "FloatProgressModel",
      "_view_count": null,
      "_view_module": "@jupyter-widgets/controls",
      "_view_module_version": "1.5.0",
      "_view_name": "ProgressView",
      "bar_style": "success",
      "description": "",
      "description_tooltip": null,
      "layout": "IPY_MODEL_29823090ca164aeb9ef4c8ee3d51aad6",
      "max": 483,
      "min": 0,
      "orientation": "horizontal",
      "style": "IPY_MODEL_551e26f0cadd49028b4c1dc2c680e5ea",
      "value": 483
     }
    },
    "ae4e026c7ec841dd9e79c6758737c775": {
     "model_module": "@jupyter-widgets/base",
     "model_module_version": "1.2.0",
     "model_name": "LayoutModel",
     "state": {
      "_model_module": "@jupyter-widgets/base",
      "_model_module_version": "1.2.0",
      "_model_name": "LayoutModel",
      "_view_count": null,
      "_view_module": "@jupyter-widgets/base",
      "_view_module_version": "1.2.0",
      "_view_name": "LayoutView",
      "align_content": null,
      "align_items": null,
      "align_self": null,
      "border": null,
      "bottom": null,
      "display": null,
      "flex": null,
      "flex_flow": null,
      "grid_area": null,
      "grid_auto_columns": null,
      "grid_auto_flow": null,
      "grid_auto_rows": null,
      "grid_column": null,
      "grid_gap": null,
      "grid_row": null,
      "grid_template_areas": null,
      "grid_template_columns": null,
      "grid_template_rows": null,
      "height": null,
      "justify_content": null,
      "justify_items": null,
      "left": null,
      "margin": null,
      "max_height": null,
      "max_width": null,
      "min_height": null,
      "min_width": null,
      "object_fit": null,
      "object_position": null,
      "order": null,
      "overflow": null,
      "overflow_x": null,
      "overflow_y": null,
      "padding": null,
      "right": null,
      "top": null,
      "visibility": null,
      "width": null
     }
    },
    "b151b57066ab4c6788c99951ae3f2371": {
     "model_module": "@jupyter-widgets/controls",
     "model_module_version": "1.5.0",
     "model_name": "DescriptionStyleModel",
     "state": {
      "_model_module": "@jupyter-widgets/controls",
      "_model_module_version": "1.5.0",
      "_model_name": "DescriptionStyleModel",
      "_view_count": null,
      "_view_module": "@jupyter-widgets/base",
      "_view_module_version": "1.2.0",
      "_view_name": "StyleView",
      "description_width": ""
     }
    },
    "b92789cfa3e0427da9d733ae41741d13": {
     "model_module": "@jupyter-widgets/controls",
     "model_module_version": "1.5.0",
     "model_name": "DescriptionStyleModel",
     "state": {
      "_model_module": "@jupyter-widgets/controls",
      "_model_module_version": "1.5.0",
      "_model_name": "DescriptionStyleModel",
      "_view_count": null,
      "_view_module": "@jupyter-widgets/base",
      "_view_module_version": "1.2.0",
      "_view_name": "StyleView",
      "description_width": ""
     }
    },
    "d184e39d7a8048619e1991fb47b5d8c6": {
     "model_module": "@jupyter-widgets/base",
     "model_module_version": "1.2.0",
     "model_name": "LayoutModel",
     "state": {
      "_model_module": "@jupyter-widgets/base",
      "_model_module_version": "1.2.0",
      "_model_name": "LayoutModel",
      "_view_count": null,
      "_view_module": "@jupyter-widgets/base",
      "_view_module_version": "1.2.0",
      "_view_name": "LayoutView",
      "align_content": null,
      "align_items": null,
      "align_self": null,
      "border": null,
      "bottom": null,
      "display": null,
      "flex": null,
      "flex_flow": null,
      "grid_area": null,
      "grid_auto_columns": null,
      "grid_auto_flow": null,
      "grid_auto_rows": null,
      "grid_column": null,
      "grid_gap": null,
      "grid_row": null,
      "grid_template_areas": null,
      "grid_template_columns": null,
      "grid_template_rows": null,
      "height": null,
      "justify_content": null,
      "justify_items": null,
      "left": null,
      "margin": null,
      "max_height": null,
      "max_width": null,
      "min_height": null,
      "min_width": null,
      "object_fit": null,
      "object_position": null,
      "order": null,
      "overflow": null,
      "overflow_x": null,
      "overflow_y": null,
      "padding": null,
      "right": null,
      "top": null,
      "visibility": null,
      "width": null
     }
    },
    "d4056e77dc574c0ca8ef5697d13c4cf3": {
     "model_module": "@jupyter-widgets/controls",
     "model_module_version": "1.5.0",
     "model_name": "HTMLModel",
     "state": {
      "_dom_classes": [],
      "_model_module": "@jupyter-widgets/controls",
      "_model_module_version": "1.5.0",
      "_model_name": "HTMLModel",
      "_view_count": null,
      "_view_module": "@jupyter-widgets/controls",
      "_view_module_version": "1.5.0",
      "_view_name": "HTMLView",
      "description": "",
      "description_tooltip": null,
      "layout": "IPY_MODEL_0e3908e5a1314e5a979ba362a0f60e90",
      "placeholder": "​",
      "style": "IPY_MODEL_704e9b5eb1f04fa197d71f3bc697fe6e",
      "value": " 268M/268M [00:03&lt;00:00, 77.2MB/s]"
     }
    },
    "d795579590224ef485ae56dd1728203d": {
     "model_module": "@jupyter-widgets/base",
     "model_module_version": "1.2.0",
     "model_name": "LayoutModel",
     "state": {
      "_model_module": "@jupyter-widgets/base",
      "_model_module_version": "1.2.0",
      "_model_name": "LayoutModel",
      "_view_count": null,
      "_view_module": "@jupyter-widgets/base",
      "_view_module_version": "1.2.0",
      "_view_name": "LayoutView",
      "align_content": null,
      "align_items": null,
      "align_self": null,
      "border": null,
      "bottom": null,
      "display": null,
      "flex": null,
      "flex_flow": null,
      "grid_area": null,
      "grid_auto_columns": null,
      "grid_auto_flow": null,
      "grid_auto_rows": null,
      "grid_column": null,
      "grid_gap": null,
      "grid_row": null,
      "grid_template_areas": null,
      "grid_template_columns": null,
      "grid_template_rows": null,
      "height": null,
      "justify_content": null,
      "justify_items": null,
      "left": null,
      "margin": null,
      "max_height": null,
      "max_width": null,
      "min_height": null,
      "min_width": null,
      "object_fit": null,
      "object_position": null,
      "order": null,
      "overflow": null,
      "overflow_x": null,
      "overflow_y": null,
      "padding": null,
      "right": null,
      "top": null,
      "visibility": null,
      "width": null
     }
    },
    "dd1c4bd3d13e42e28dd15a3eeb3a0c64": {
     "model_module": "@jupyter-widgets/controls",
     "model_module_version": "1.5.0",
     "model_name": "HBoxModel",
     "state": {
      "_dom_classes": [],
      "_model_module": "@jupyter-widgets/controls",
      "_model_module_version": "1.5.0",
      "_model_name": "HBoxModel",
      "_view_count": null,
      "_view_module": "@jupyter-widgets/controls",
      "_view_module_version": "1.5.0",
      "_view_name": "HBoxView",
      "box_style": "",
      "children": [
       "IPY_MODEL_4589bec57c3e4f469d00e2a088770751",
       "IPY_MODEL_ffcd013c3a8f4281b624c9d5ee91a1b1",
       "IPY_MODEL_4c1532cb4082491e8d098e9ad982d581"
      ],
      "layout": "IPY_MODEL_d795579590224ef485ae56dd1728203d"
     }
    },
    "fd72fc6d1e804371aaba9c3ec012c017": {
     "model_module": "@jupyter-widgets/base",
     "model_module_version": "1.2.0",
     "model_name": "LayoutModel",
     "state": {
      "_model_module": "@jupyter-widgets/base",
      "_model_module_version": "1.2.0",
      "_model_name": "LayoutModel",
      "_view_count": null,
      "_view_module": "@jupyter-widgets/base",
      "_view_module_version": "1.2.0",
      "_view_name": "LayoutView",
      "align_content": null,
      "align_items": null,
      "align_self": null,
      "border": null,
      "bottom": null,
      "display": null,
      "flex": null,
      "flex_flow": null,
      "grid_area": null,
      "grid_auto_columns": null,
      "grid_auto_flow": null,
      "grid_auto_rows": null,
      "grid_column": null,
      "grid_gap": null,
      "grid_row": null,
      "grid_template_areas": null,
      "grid_template_columns": null,
      "grid_template_rows": null,
      "height": null,
      "justify_content": null,
      "justify_items": null,
      "left": null,
      "margin": null,
      "max_height": null,
      "max_width": null,
      "min_height": null,
      "min_width": null,
      "object_fit": null,
      "object_position": null,
      "order": null,
      "overflow": null,
      "overflow_x": null,
      "overflow_y": null,
      "padding": null,
      "right": null,
      "top": null,
      "visibility": null,
      "width": null
     }
    },
    "ffcd013c3a8f4281b624c9d5ee91a1b1": {
     "model_module": "@jupyter-widgets/controls",
     "model_module_version": "1.5.0",
     "model_name": "FloatProgressModel",
     "state": {
      "_dom_classes": [],
      "_model_module": "@jupyter-widgets/controls",
      "_model_module_version": "1.5.0",
      "_model_name": "FloatProgressModel",
      "_view_count": null,
      "_view_module": "@jupyter-widgets/controls",
      "_view_module_version": "1.5.0",
      "_view_name": "ProgressView",
      "bar_style": "success",
      "description": "",
      "description_tooltip": null,
      "layout": "IPY_MODEL_918d480e77cf4c74860efdd8f7c740a5",
      "max": 28,
      "min": 0,
      "orientation": "horizontal",
      "style": "IPY_MODEL_4211c52e3d92482fb278c20fc59d2daa",
      "value": 28
     }
    }
   }
  }
 },
 "nbformat": 4,
 "nbformat_minor": 1
}
